{
 "cells": [
  {
   "cell_type": "code",
   "execution_count": 1,
   "metadata": {},
   "outputs": [],
   "source": [
    "import uproot\n",
    "import awkward\n",
    "from awkward import JaggedArray\n",
    "import plotly.express as px\n",
    "import pandas as pd\n"
   ]
  },
  {
   "cell_type": "code",
   "execution_count": 2,
   "metadata": {},
   "outputs": [],
   "source": [
    "import plotly.graph_objects as go\n",
    "import numpy as np"
   ]
  },
  {
   "cell_type": "code",
   "execution_count": 3,
   "metadata": {},
   "outputs": [],
   "source": [
    "import matplotlib.pyplot as pp\n"
   ]
  },
  {
   "cell_type": "code",
   "execution_count": 4,
   "metadata": {},
   "outputs": [],
   "source": [
    "myEvList = []"
   ]
  },
  {
   "cell_type": "code",
   "execution_count": 5,
   "metadata": {},
   "outputs": [],
   "source": [
    "filenames1=[\"NonSmeared\", \"Smeared_jleic\", \"Smeared_beast\"]\n",
    "basename1=\"mydiHad\"\n",
    "basename=\"mydiHadNonSmeared_\"\n",
    "basenames=[\"mydiHadNonSmeared_\",\"mydiHadSmeared_\"]\n",
    "filenames=[ \"45Plus5\",\"100Plus5\", \"100Plus10\", \"275Plus18\"]"
   ]
  },
  {
   "cell_type": "code",
   "execution_count": 6,
   "metadata": {},
   "outputs": [
    {
     "name": "stdout",
     "output_type": "stream",
     "text": [
      "45Plus5\n",
      "100Plus5\n",
      "100Plus10\n",
      "275Plus18\n"
     ]
    }
   ],
   "source": [
    "for fn in filenames:\n",
    "     print(fn)\n",
    "                     "
   ]
  },
  {
   "cell_type": "code",
   "execution_count": 7,
   "metadata": {},
   "outputs": [
    {
     "name": "stdout",
     "output_type": "stream",
     "text": [
      "opening mydiHadNonSmeared_45Plus5.root\n",
      "opening mydiHadSmeared_45Plus5.root\n",
      "opening mydiHadNonSmeared_100Plus5.root\n",
      "opening mydiHadSmeared_100Plus5.root\n",
      "opening mydiHadNonSmeared_100Plus10.root\n",
      "opening mydiHadSmeared_100Plus10.root\n",
      "opening mydiHadNonSmeared_275Plus18.root\n",
      "opening mydiHadSmeared_275Plus18.root\n"
     ]
    }
   ],
   "source": [
    "for fn in filenames:\n",
    "    for base in basenames:\n",
    "        evts=uproot.open(base+fn+\".root\")['events']\n",
    "        print(\"opening \"+base+fn+\".root\")\n",
    "        myEvList.append(evts)\n",
    "                     "
   ]
  },
  {
   "cell_type": "code",
   "execution_count": 8,
   "metadata": {},
   "outputs": [
    {
     "data": {
      "text/plain": [
       "uproot.rootio.ROOTDirectory"
      ]
     },
     "execution_count": 8,
     "metadata": {},
     "output_type": "execute_result"
    }
   ],
   "source": [
    "type(myEvList[5])"
   ]
  },
  {
   "cell_type": "code",
   "execution_count": 9,
   "metadata": {},
   "outputs": [
    {
     "data": {
      "text/plain": [
       "2.3586551119823396"
      ]
     },
     "execution_count": 9,
     "metadata": {},
     "output_type": "execute_result"
    }
   ],
   "source": [
    "myEvList[0]['tree'].array(\"p\").content[0]"
   ]
  },
  {
   "cell_type": "code",
   "execution_count": 10,
   "metadata": {},
   "outputs": [],
   "source": [
    "myVars =[\"p\", \"px\", \"py\", \"pz\", \"pdg\", \"smear_orig_px\", \"smear_orig_py\",\"smear_orig_py\", \"smear_orig_pz\"]"
   ]
  },
  {
   "cell_type": "code",
   "execution_count": 11,
   "metadata": {},
   "outputs": [],
   "source": [
    "myDFs=[]"
   ]
  },
  {
   "cell_type": "code",
   "execution_count": 28,
   "metadata": {},
   "outputs": [],
   "source": [
    "for ev in myEvList:\n",
    "    df = pd.DataFrame()\n",
    "    for vars in myVars:\n",
    "        df[vars]=ev['tree'].array(vars).content\n",
    "    myDFs.append(df)"
   ]
  },
  {
   "cell_type": "code",
   "execution_count": 13,
   "metadata": {},
   "outputs": [],
   "source": [
    "from FunctionsForDataAna2 import getEta"
   ]
  },
  {
   "cell_type": "code",
   "execution_count": 29,
   "metadata": {},
   "outputs": [
    {
     "data": {
      "text/plain": [
       "8"
      ]
     },
     "execution_count": 29,
     "metadata": {},
     "output_type": "execute_result"
    }
   ],
   "source": [
    "len(myDFs)\n"
   ]
  },
  {
   "cell_type": "code",
   "execution_count": 14,
   "metadata": {},
   "outputs": [
    {
     "data": {
      "text/html": [
       "<div>\n",
       "<style scoped>\n",
       "    .dataframe tbody tr th:only-of-type {\n",
       "        vertical-align: middle;\n",
       "    }\n",
       "\n",
       "    .dataframe tbody tr th {\n",
       "        vertical-align: top;\n",
       "    }\n",
       "\n",
       "    .dataframe thead th {\n",
       "        text-align: right;\n",
       "    }\n",
       "</style>\n",
       "<table border=\"1\" class=\"dataframe\">\n",
       "  <thead>\n",
       "    <tr style=\"text-align: right;\">\n",
       "      <th></th>\n",
       "      <th>p</th>\n",
       "      <th>px</th>\n",
       "      <th>py</th>\n",
       "      <th>pz</th>\n",
       "      <th>pdg</th>\n",
       "      <th>smear_orig_px</th>\n",
       "      <th>smear_orig_py</th>\n",
       "      <th>smear_orig_pz</th>\n",
       "    </tr>\n",
       "  </thead>\n",
       "  <tbody>\n",
       "    <tr>\n",
       "      <th>0</th>\n",
       "      <td>2.358655</td>\n",
       "      <td>-0.945360</td>\n",
       "      <td>-0.606011</td>\n",
       "      <td>2.074198</td>\n",
       "      <td>-11</td>\n",
       "      <td>0.0</td>\n",
       "      <td>0.0</td>\n",
       "      <td>0.0</td>\n",
       "    </tr>\n",
       "    <tr>\n",
       "      <th>1</th>\n",
       "      <td>1.693408</td>\n",
       "      <td>1.054523</td>\n",
       "      <td>-0.251235</td>\n",
       "      <td>-1.300958</td>\n",
       "      <td>211</td>\n",
       "      <td>0.0</td>\n",
       "      <td>0.0</td>\n",
       "      <td>0.0</td>\n",
       "    </tr>\n",
       "    <tr>\n",
       "      <th>2</th>\n",
       "      <td>0.624548</td>\n",
       "      <td>-0.154143</td>\n",
       "      <td>-0.515441</td>\n",
       "      <td>-0.317209</td>\n",
       "      <td>-211</td>\n",
       "      <td>0.0</td>\n",
       "      <td>0.0</td>\n",
       "      <td>0.0</td>\n",
       "    </tr>\n",
       "    <tr>\n",
       "      <th>3</th>\n",
       "      <td>1.816069</td>\n",
       "      <td>-0.987706</td>\n",
       "      <td>-0.352244</td>\n",
       "      <td>1.482723</td>\n",
       "      <td>-11</td>\n",
       "      <td>0.0</td>\n",
       "      <td>0.0</td>\n",
       "      <td>0.0</td>\n",
       "    </tr>\n",
       "    <tr>\n",
       "      <th>4</th>\n",
       "      <td>1.486216</td>\n",
       "      <td>1.475525</td>\n",
       "      <td>0.152073</td>\n",
       "      <td>0.092400</td>\n",
       "      <td>211</td>\n",
       "      <td>0.0</td>\n",
       "      <td>0.0</td>\n",
       "      <td>0.0</td>\n",
       "    </tr>\n",
       "    <tr>\n",
       "      <th>5</th>\n",
       "      <td>0.764904</td>\n",
       "      <td>0.477111</td>\n",
       "      <td>-0.524413</td>\n",
       "      <td>-0.287113</td>\n",
       "      <td>-211</td>\n",
       "      <td>0.0</td>\n",
       "      <td>0.0</td>\n",
       "      <td>0.0</td>\n",
       "    </tr>\n",
       "    <tr>\n",
       "      <th>6</th>\n",
       "      <td>2.733030</td>\n",
       "      <td>-0.434219</td>\n",
       "      <td>1.085610</td>\n",
       "      <td>2.470295</td>\n",
       "      <td>-11</td>\n",
       "      <td>0.0</td>\n",
       "      <td>0.0</td>\n",
       "      <td>0.0</td>\n",
       "    </tr>\n",
       "    <tr>\n",
       "      <th>7</th>\n",
       "      <td>1.190663</td>\n",
       "      <td>0.460644</td>\n",
       "      <td>-1.092976</td>\n",
       "      <td>-0.104343</td>\n",
       "      <td>211</td>\n",
       "      <td>0.0</td>\n",
       "      <td>0.0</td>\n",
       "      <td>0.0</td>\n",
       "    </tr>\n",
       "    <tr>\n",
       "      <th>8</th>\n",
       "      <td>1.180742</td>\n",
       "      <td>-0.010155</td>\n",
       "      <td>-1.027906</td>\n",
       "      <td>-0.580911</td>\n",
       "      <td>-211</td>\n",
       "      <td>0.0</td>\n",
       "      <td>0.0</td>\n",
       "      <td>0.0</td>\n",
       "    </tr>\n",
       "    <tr>\n",
       "      <th>9</th>\n",
       "      <td>3.949320</td>\n",
       "      <td>-0.959840</td>\n",
       "      <td>-0.768164</td>\n",
       "      <td>3.753100</td>\n",
       "      <td>-11</td>\n",
       "      <td>0.0</td>\n",
       "      <td>0.0</td>\n",
       "      <td>0.0</td>\n",
       "    </tr>\n",
       "  </tbody>\n",
       "</table>\n",
       "</div>"
      ],
      "text/plain": [
       "          p        px        py        pz  pdg  smear_orig_px  smear_orig_py  \\\n",
       "0  2.358655 -0.945360 -0.606011  2.074198  -11            0.0            0.0   \n",
       "1  1.693408  1.054523 -0.251235 -1.300958  211            0.0            0.0   \n",
       "2  0.624548 -0.154143 -0.515441 -0.317209 -211            0.0            0.0   \n",
       "3  1.816069 -0.987706 -0.352244  1.482723  -11            0.0            0.0   \n",
       "4  1.486216  1.475525  0.152073  0.092400  211            0.0            0.0   \n",
       "5  0.764904  0.477111 -0.524413 -0.287113 -211            0.0            0.0   \n",
       "6  2.733030 -0.434219  1.085610  2.470295  -11            0.0            0.0   \n",
       "7  1.190663  0.460644 -1.092976 -0.104343  211            0.0            0.0   \n",
       "8  1.180742 -0.010155 -1.027906 -0.580911 -211            0.0            0.0   \n",
       "9  3.949320 -0.959840 -0.768164  3.753100  -11            0.0            0.0   \n",
       "\n",
       "   smear_orig_pz  \n",
       "0            0.0  \n",
       "1            0.0  \n",
       "2            0.0  \n",
       "3            0.0  \n",
       "4            0.0  \n",
       "5            0.0  \n",
       "6            0.0  \n",
       "7            0.0  \n",
       "8            0.0  \n",
       "9            0.0  "
      ]
     },
     "execution_count": 14,
     "metadata": {},
     "output_type": "execute_result"
    }
   ],
   "source": [
    "myDFs[0].head(10)"
   ]
  },
  {
   "cell_type": "code",
   "execution_count": 15,
   "metadata": {},
   "outputs": [
    {
     "data": {
      "text/html": [
       "<div>\n",
       "<style scoped>\n",
       "    .dataframe tbody tr th:only-of-type {\n",
       "        vertical-align: middle;\n",
       "    }\n",
       "\n",
       "    .dataframe tbody tr th {\n",
       "        vertical-align: top;\n",
       "    }\n",
       "\n",
       "    .dataframe thead th {\n",
       "        text-align: right;\n",
       "    }\n",
       "</style>\n",
       "<table border=\"1\" class=\"dataframe\">\n",
       "  <thead>\n",
       "    <tr style=\"text-align: right;\">\n",
       "      <th></th>\n",
       "      <th>p</th>\n",
       "      <th>px</th>\n",
       "      <th>py</th>\n",
       "      <th>pz</th>\n",
       "      <th>pdg</th>\n",
       "      <th>smear_orig_px</th>\n",
       "      <th>smear_orig_py</th>\n",
       "      <th>smear_orig_pz</th>\n",
       "    </tr>\n",
       "  </thead>\n",
       "  <tbody>\n",
       "    <tr>\n",
       "      <th>0</th>\n",
       "      <td>2.360413</td>\n",
       "      <td>-0.605382</td>\n",
       "      <td>-0.944535</td>\n",
       "      <td>2.076756</td>\n",
       "      <td>-11</td>\n",
       "      <td>-0.945360</td>\n",
       "      <td>-0.606011</td>\n",
       "      <td>2.074198</td>\n",
       "    </tr>\n",
       "    <tr>\n",
       "      <th>1</th>\n",
       "      <td>1.696544</td>\n",
       "      <td>-0.252050</td>\n",
       "      <td>1.057712</td>\n",
       "      <td>-1.302296</td>\n",
       "      <td>211</td>\n",
       "      <td>1.054523</td>\n",
       "      <td>-0.251235</td>\n",
       "      <td>-1.300958</td>\n",
       "    </tr>\n",
       "    <tr>\n",
       "      <th>2</th>\n",
       "      <td>0.629250</td>\n",
       "      <td>-0.519636</td>\n",
       "      <td>-0.155069</td>\n",
       "      <td>-0.319198</td>\n",
       "      <td>-211</td>\n",
       "      <td>-0.154143</td>\n",
       "      <td>-0.515441</td>\n",
       "      <td>-0.317209</td>\n",
       "    </tr>\n",
       "    <tr>\n",
       "      <th>3</th>\n",
       "      <td>1.850032</td>\n",
       "      <td>-0.358465</td>\n",
       "      <td>-1.005579</td>\n",
       "      <td>1.510937</td>\n",
       "      <td>-11</td>\n",
       "      <td>-0.987706</td>\n",
       "      <td>-0.352244</td>\n",
       "      <td>1.482723</td>\n",
       "    </tr>\n",
       "    <tr>\n",
       "      <th>4</th>\n",
       "      <td>1.478876</td>\n",
       "      <td>0.151348</td>\n",
       "      <td>1.468417</td>\n",
       "      <td>0.088996</td>\n",
       "      <td>211</td>\n",
       "      <td>1.475525</td>\n",
       "      <td>0.152073</td>\n",
       "      <td>0.092400</td>\n",
       "    </tr>\n",
       "    <tr>\n",
       "      <th>5</th>\n",
       "      <td>0.776113</td>\n",
       "      <td>-0.532224</td>\n",
       "      <td>0.484023</td>\n",
       "      <td>-0.291222</td>\n",
       "      <td>-211</td>\n",
       "      <td>0.477111</td>\n",
       "      <td>-0.524413</td>\n",
       "      <td>-0.287113</td>\n",
       "    </tr>\n",
       "    <tr>\n",
       "      <th>6</th>\n",
       "      <td>2.848639</td>\n",
       "      <td>1.131959</td>\n",
       "      <td>-0.451023</td>\n",
       "      <td>2.574877</td>\n",
       "      <td>-11</td>\n",
       "      <td>-0.434219</td>\n",
       "      <td>1.085610</td>\n",
       "      <td>2.470295</td>\n",
       "    </tr>\n",
       "    <tr>\n",
       "      <th>7</th>\n",
       "      <td>1.166848</td>\n",
       "      <td>-1.072132</td>\n",
       "      <td>0.449323</td>\n",
       "      <td>-0.100873</td>\n",
       "      <td>211</td>\n",
       "      <td>0.460644</td>\n",
       "      <td>-1.092976</td>\n",
       "      <td>-0.104343</td>\n",
       "    </tr>\n",
       "    <tr>\n",
       "      <th>8</th>\n",
       "      <td>1.186252</td>\n",
       "      <td>-1.032549</td>\n",
       "      <td>-0.011329</td>\n",
       "      <td>-0.583874</td>\n",
       "      <td>-211</td>\n",
       "      <td>-0.010155</td>\n",
       "      <td>-1.027906</td>\n",
       "      <td>-0.580911</td>\n",
       "    </tr>\n",
       "    <tr>\n",
       "      <th>9</th>\n",
       "      <td>3.901612</td>\n",
       "      <td>-0.755779</td>\n",
       "      <td>-0.944825</td>\n",
       "      <td>3.709269</td>\n",
       "      <td>-11</td>\n",
       "      <td>-0.959840</td>\n",
       "      <td>-0.768164</td>\n",
       "      <td>3.753100</td>\n",
       "    </tr>\n",
       "  </tbody>\n",
       "</table>\n",
       "</div>"
      ],
      "text/plain": [
       "          p        px        py        pz  pdg  smear_orig_px  smear_orig_py  \\\n",
       "0  2.360413 -0.605382 -0.944535  2.076756  -11      -0.945360      -0.606011   \n",
       "1  1.696544 -0.252050  1.057712 -1.302296  211       1.054523      -0.251235   \n",
       "2  0.629250 -0.519636 -0.155069 -0.319198 -211      -0.154143      -0.515441   \n",
       "3  1.850032 -0.358465 -1.005579  1.510937  -11      -0.987706      -0.352244   \n",
       "4  1.478876  0.151348  1.468417  0.088996  211       1.475525       0.152073   \n",
       "5  0.776113 -0.532224  0.484023 -0.291222 -211       0.477111      -0.524413   \n",
       "6  2.848639  1.131959 -0.451023  2.574877  -11      -0.434219       1.085610   \n",
       "7  1.166848 -1.072132  0.449323 -0.100873  211       0.460644      -1.092976   \n",
       "8  1.186252 -1.032549 -0.011329 -0.583874 -211      -0.010155      -1.027906   \n",
       "9  3.901612 -0.755779 -0.944825  3.709269  -11      -0.959840      -0.768164   \n",
       "\n",
       "   smear_orig_pz  \n",
       "0       2.074198  \n",
       "1      -1.300958  \n",
       "2      -0.317209  \n",
       "3       1.482723  \n",
       "4       0.092400  \n",
       "5      -0.287113  \n",
       "6       2.470295  \n",
       "7      -0.104343  \n",
       "8      -0.580911  \n",
       "9       3.753100  "
      ]
     },
     "execution_count": 15,
     "metadata": {},
     "output_type": "execute_result"
    }
   ],
   "source": [
    "myDFs[1].head(10)"
   ]
  },
  {
   "cell_type": "code",
   "execution_count": 30,
   "metadata": {},
   "outputs": [],
   "source": [
    "for df in myDFs:\n",
    "    df['eta']=df.apply(lambda row: getEta(row['px'],row['py'],row['pz']), axis=1)"
   ]
  },
  {
   "cell_type": "code",
   "execution_count": 17,
   "metadata": {
    "jupyter": {
     "source_hidden": true
    }
   },
   "outputs": [],
   "source": [
    "myDFs=[]"
   ]
  },
  {
   "cell_type": "code",
   "execution_count": 18,
   "metadata": {},
   "outputs": [
    {
     "ename": "IndexError",
     "evalue": "list index out of range",
     "output_type": "error",
     "traceback": [
      "\u001b[0;31m---------------------------------------------------------------------------\u001b[0m",
      "\u001b[0;31mIndexError\u001b[0m                                Traceback (most recent call last)",
      "\u001b[0;32m<ipython-input-18-e43750baa2ad>\u001b[0m in \u001b[0;36m<module>\u001b[0;34m\u001b[0m\n\u001b[0;32m----> 1\u001b[0;31m \u001b[0mmyDFs\u001b[0m\u001b[0;34m[\u001b[0m\u001b[0;36m0\u001b[0m\u001b[0;34m]\u001b[0m\u001b[0;34m.\u001b[0m\u001b[0mhead\u001b[0m\u001b[0;34m(\u001b[0m\u001b[0;36m100\u001b[0m\u001b[0;34m)\u001b[0m\u001b[0;34m[\u001b[0m\u001b[0;34m\"pdg\"\u001b[0m\u001b[0;34m]\u001b[0m\u001b[0;34m==\u001b[0m\u001b[0;34m-\u001b[0m\u001b[0;36m211\u001b[0m\u001b[0;34m\u001b[0m\u001b[0;34m\u001b[0m\u001b[0m\n\u001b[0m",
      "\u001b[0;31mIndexError\u001b[0m: list index out of range"
     ]
    }
   ],
   "source": [
    "myDFs[0].head(100)[\"pdg\"]==-211"
   ]
  },
  {
   "cell_type": "code",
   "execution_count": 31,
   "metadata": {},
   "outputs": [],
   "source": [
    "beamEIndex=6"
   ]
  },
  {
   "cell_type": "code",
   "execution_count": 32,
   "metadata": {},
   "outputs": [],
   "source": [
    "elecEta=myDFs[beamEIndex].head(10000).loc[myDFs[beamEIndex].head(10000)['pdg']==-11,'eta']"
   ]
  },
  {
   "cell_type": "code",
   "execution_count": 33,
   "metadata": {},
   "outputs": [],
   "source": [
    "piPlusEta=myDFs[beamEIndex].head(10000).loc[myDFs[beamEIndex].head(10000)['pdg']==211,'eta']"
   ]
  },
  {
   "cell_type": "code",
   "execution_count": 34,
   "metadata": {},
   "outputs": [],
   "source": [
    "piMinusEta=myDFs[beamEIndex].head(10000).loc[myDFs[beamEIndex].head(10000)['pdg']==-211,'eta']"
   ]
  },
  {
   "cell_type": "code",
   "execution_count": 35,
   "metadata": {},
   "outputs": [
    {
     "data": {
      "image/png": "[encoded data removed]",
      "text/plain": [
       "<Figure size 432x288 with 1 Axes>"
      ]
     },
     "metadata": {
      "needs_background": "light"
     },
     "output_type": "display_data"
    }
   ],
   "source": [
    "hElecEta=pp.hist(elecEta,bins=100)"
   ]
  },
  {
   "cell_type": "code",
   "execution_count": 36,
   "metadata": {},
   "outputs": [
    {
     "data": {
      "image/png": "[encoded data removed]",
      "text/plain": [
       "<Figure size 432x288 with 1 Axes>"
      ]
     },
     "metadata": {
      "needs_background": "light"
     },
     "output_type": "display_data"
    }
   ],
   "source": [
    "hPiMinusEta=pp.hist(piMinusEta,bins=100)"
   ]
  },
  {
   "cell_type": "code",
   "execution_count": 37,
   "metadata": {},
   "outputs": [
    {
     "data": {
      "image/png": "[encoded data removed]",
      "text/plain": [
       "<Figure size 432x288 with 1 Axes>"
      ]
     },
     "metadata": {
      "needs_background": "light"
     },
     "output_type": "display_data"
    }
   ],
   "source": [
    "hPiPlusEta=pp.hist(piPlusEta,bins=100)"
   ]
  },
  {
   "cell_type": "code",
   "execution_count": 38,
   "metadata": {},
   "outputs": [],
   "source": [
    "elecP=myDFs[3].head(10000).loc[myDFs[3].head(10000)['pdg']==-11,'p']"
   ]
  },
  {
   "cell_type": "code",
   "execution_count": 39,
   "metadata": {},
   "outputs": [
    {
     "data": {
      "text/plain": [
       "(array([ 6., 22., 18., 12., 12., 22., 18.,  9., 16., 16., 18., 10., 15.,\n",
       "        13., 24., 14., 16., 16., 17., 18., 21., 19., 20., 22., 18., 23.,\n",
       "        22., 23., 21., 40., 21., 25., 30., 19., 31., 26., 27., 22., 37.,\n",
       "        30., 34., 28., 32., 27., 36., 31., 33., 41., 42., 34., 40., 38.,\n",
       "        36., 26., 27., 39., 31., 38., 34., 31., 34., 41., 43., 33., 47.,\n",
       "        35., 39., 33., 47., 42., 46., 42., 42., 44., 46., 38., 55., 45.,\n",
       "        46., 60., 49., 67., 43., 35., 49., 50., 67., 40., 55., 55., 55.,\n",
       "        59., 66., 48., 57., 44., 71., 50., 25.,  4.]),\n",
       " array([14.83419288, 15.50778517, 16.18137745, 16.85496973, 17.52856202,\n",
       "        18.2021543 , 18.87574658, 19.54933886, 20.22293115, 20.89652343,\n",
       "        21.57011571, 22.243708  , 22.91730028, 23.59089256, 24.26448484,\n",
       "        24.93807713, 25.61166941, 26.28526169, 26.95885398, 27.63244626,\n",
       "        28.30603854, 28.97963083, 29.65322311, 30.32681539, 31.00040767,\n",
       "        31.67399996, 32.34759224, 33.02118452, 33.69477681, 34.36836909,\n",
       "        35.04196137, 35.71555365, 36.38914594, 37.06273822, 37.7363305 ,\n",
       "        38.40992279, 39.08351507, 39.75710735, 40.43069963, 41.10429192,\n",
       "        41.7778842 , 42.45147648, 43.12506877, 43.79866105, 44.47225333,\n",
       "        45.14584562, 45.8194379 , 46.49303018, 47.16662246, 47.84021475,\n",
       "        48.51380703, 49.18739931, 49.8609916 , 50.53458388, 51.20817616,\n",
       "        51.88176844, 52.55536073, 53.22895301, 53.90254529, 54.57613758,\n",
       "        55.24972986, 55.92332214, 56.59691442, 57.27050671, 57.94409899,\n",
       "        58.61769127, 59.29128356, 59.96487584, 60.63846812, 61.31206041,\n",
       "        61.98565269, 62.65924497, 63.33283725, 64.00642954, 64.68002182,\n",
       "        65.3536141 , 66.02720639, 66.70079867, 67.37439095, 68.04798323,\n",
       "        68.72157552, 69.3951678 , 70.06876008, 70.74235237, 71.41594465,\n",
       "        72.08953693, 72.76312921, 73.4367215 , 74.11031378, 74.78390606,\n",
       "        75.45749835, 76.13109063, 76.80468291, 77.4782752 , 78.15186748,\n",
       "        78.82545976, 79.49905204, 80.17264433, 80.84623661, 81.51982889,\n",
       "        82.19342118]),\n",
       " <a list of 100 Patch objects>)"
      ]
     },
     "execution_count": 39,
     "metadata": {},
     "output_type": "execute_result"
    },
    {
     "data": {
      "image/png": "[encoded data removed]",
      "text/plain": [
       "<Figure size 432x288 with 1 Axes>"
      ]
     },
     "metadata": {
      "needs_background": "light"
     },
     "output_type": "display_data"
    }
   ],
   "source": [
    "pp.hist(elecP,bins=100)"
   ]
  },
  {
   "cell_type": "code",
   "execution_count": 40,
   "metadata": {},
   "outputs": [],
   "source": [
    "dfPlot=pd.DataFrame({'X':elecP,'Y':elecEta})"
   ]
  },
  {
   "cell_type": "code",
   "execution_count": 41,
   "metadata": {},
   "outputs": [
    {
     "data": {
      "text/plain": [
       "6"
      ]
     },
     "execution_count": 41,
     "metadata": {},
     "output_type": "execute_result"
    }
   ],
   "source": [
    "beamEIndex"
   ]
  },
  {
   "cell_type": "code",
   "execution_count": 42,
   "metadata": {},
   "outputs": [
    {
     "data": {
      "text/html": [
       "<div>\n",
       "<style scoped>\n",
       "    .dataframe tbody tr th:only-of-type {\n",
       "        vertical-align: middle;\n",
       "    }\n",
       "\n",
       "    .dataframe tbody tr th {\n",
       "        vertical-align: top;\n",
       "    }\n",
       "\n",
       "    .dataframe thead th {\n",
       "        text-align: right;\n",
       "    }\n",
       "</style>\n",
       "<table border=\"1\" class=\"dataframe\">\n",
       "  <thead>\n",
       "    <tr style=\"text-align: right;\">\n",
       "      <th></th>\n",
       "      <th>X</th>\n",
       "      <th>Y</th>\n",
       "    </tr>\n",
       "  </thead>\n",
       "  <tbody>\n",
       "    <tr>\n",
       "      <th>0</th>\n",
       "      <td>43.393678</td>\n",
       "      <td>1.513781</td>\n",
       "    </tr>\n",
       "    <tr>\n",
       "      <th>3</th>\n",
       "      <td>48.340440</td>\n",
       "      <td>2.011601</td>\n",
       "    </tr>\n",
       "    <tr>\n",
       "      <th>6</th>\n",
       "      <td>63.791328</td>\n",
       "      <td>2.484172</td>\n",
       "    </tr>\n",
       "    <tr>\n",
       "      <th>9</th>\n",
       "      <td>48.378968</td>\n",
       "      <td>2.020438</td>\n",
       "    </tr>\n",
       "    <tr>\n",
       "      <th>12</th>\n",
       "      <td>55.149587</td>\n",
       "      <td>1.658942</td>\n",
       "    </tr>\n",
       "    <tr>\n",
       "      <th>...</th>\n",
       "      <td>...</td>\n",
       "      <td>...</td>\n",
       "    </tr>\n",
       "    <tr>\n",
       "      <th>9987</th>\n",
       "      <td>73.740517</td>\n",
       "      <td>1.594591</td>\n",
       "    </tr>\n",
       "    <tr>\n",
       "      <th>9990</th>\n",
       "      <td>35.610373</td>\n",
       "      <td>0.080841</td>\n",
       "    </tr>\n",
       "    <tr>\n",
       "      <th>9993</th>\n",
       "      <td>62.324774</td>\n",
       "      <td>1.757212</td>\n",
       "    </tr>\n",
       "    <tr>\n",
       "      <th>9996</th>\n",
       "      <td>74.994804</td>\n",
       "      <td>1.567245</td>\n",
       "    </tr>\n",
       "    <tr>\n",
       "      <th>9999</th>\n",
       "      <td>76.023723</td>\n",
       "      <td>2.271342</td>\n",
       "    </tr>\n",
       "  </tbody>\n",
       "</table>\n",
       "<p>3334 rows × 2 columns</p>\n",
       "</div>"
      ],
      "text/plain": [
       "              X         Y\n",
       "0     43.393678  1.513781\n",
       "3     48.340440  2.011601\n",
       "6     63.791328  2.484172\n",
       "9     48.378968  2.020438\n",
       "12    55.149587  1.658942\n",
       "...         ...       ...\n",
       "9987  73.740517  1.594591\n",
       "9990  35.610373  0.080841\n",
       "9993  62.324774  1.757212\n",
       "9996  74.994804  1.567245\n",
       "9999  76.023723  2.271342\n",
       "\n",
       "[3334 rows x 2 columns]"
      ]
     },
     "execution_count": 42,
     "metadata": {},
     "output_type": "execute_result"
    }
   ],
   "source": [
    "dfPlot"
   ]
  },
  {
   "cell_type": "code",
   "execution_count": 43,
   "metadata": {},
   "outputs": [
    {
     "ename": "TypeError",
     "evalue": "hist2d() missing 1 required positional argument: 'y'",
     "output_type": "error",
     "traceback": [
      "\u001b[0;31m---------------------------------------------------------------------------\u001b[0m",
      "\u001b[0;31mTypeError\u001b[0m                                 Traceback (most recent call last)",
      "\u001b[0;32m<ipython-input-43-b98efcc2c75c>\u001b[0m in \u001b[0;36m<module>\u001b[0;34m\u001b[0m\n\u001b[0;32m----> 1\u001b[0;31m \u001b[0mpp\u001b[0m\u001b[0;34m.\u001b[0m\u001b[0mhist2d\u001b[0m\u001b[0;34m(\u001b[0m\u001b[0mdfPlot\u001b[0m\u001b[0;34m)\u001b[0m\u001b[0;34m\u001b[0m\u001b[0;34m\u001b[0m\u001b[0m\n\u001b[0m",
      "\u001b[0;31mTypeError\u001b[0m: hist2d() missing 1 required positional argument: 'y'"
     ]
    }
   ],
   "source": [
    "pp.hist2d(dfPlot)"
   ]
  },
  {
   "cell_type": "code",
   "execution_count": 46,
   "metadata": {},
   "outputs": [
    {
     "data": {
      "text/plain": [
       "(array([[0., 0., 0., ..., 0., 0., 0.],\n",
       "        [0., 0., 0., ..., 0., 0., 0.],\n",
       "        [0., 0., 0., ..., 0., 0., 0.],\n",
       "        ...,\n",
       "        [0., 0., 0., ..., 0., 0., 0.],\n",
       "        [0., 0., 0., ..., 0., 0., 0.],\n",
       "        [0., 0., 0., ..., 0., 0., 0.]]),\n",
       " array([-0.5  , -0.465, -0.43 , -0.395, -0.36 , -0.325, -0.29 , -0.255,\n",
       "        -0.22 , -0.185, -0.15 , -0.115, -0.08 , -0.045, -0.01 ,  0.025,\n",
       "         0.06 ,  0.095,  0.13 ,  0.165,  0.2  ,  0.235,  0.27 ,  0.305,\n",
       "         0.34 ,  0.375,  0.41 ,  0.445,  0.48 ,  0.515,  0.55 ,  0.585,\n",
       "         0.62 ,  0.655,  0.69 ,  0.725,  0.76 ,  0.795,  0.83 ,  0.865,\n",
       "         0.9  ,  0.935,  0.97 ,  1.005,  1.04 ,  1.075,  1.11 ,  1.145,\n",
       "         1.18 ,  1.215,  1.25 ,  1.285,  1.32 ,  1.355,  1.39 ,  1.425,\n",
       "         1.46 ,  1.495,  1.53 ,  1.565,  1.6  ,  1.635,  1.67 ,  1.705,\n",
       "         1.74 ,  1.775,  1.81 ,  1.845,  1.88 ,  1.915,  1.95 ,  1.985,\n",
       "         2.02 ,  2.055,  2.09 ,  2.125,  2.16 ,  2.195,  2.23 ,  2.265,\n",
       "         2.3  ,  2.335,  2.37 ,  2.405,  2.44 ,  2.475,  2.51 ,  2.545,\n",
       "         2.58 ,  2.615,  2.65 ,  2.685,  2.72 ,  2.755,  2.79 ,  2.825,\n",
       "         2.86 ,  2.895,  2.93 ,  2.965,  3.   ]),\n",
       " array([ 0. ,  0.9,  1.8,  2.7,  3.6,  4.5,  5.4,  6.3,  7.2,  8.1,  9. ,\n",
       "         9.9, 10.8, 11.7, 12.6, 13.5, 14.4, 15.3, 16.2, 17.1, 18. , 18.9,\n",
       "        19.8, 20.7, 21.6, 22.5, 23.4, 24.3, 25.2, 26.1, 27. , 27.9, 28.8,\n",
       "        29.7, 30.6, 31.5, 32.4, 33.3, 34.2, 35.1, 36. , 36.9, 37.8, 38.7,\n",
       "        39.6, 40.5, 41.4, 42.3, 43.2, 44.1, 45. , 45.9, 46.8, 47.7, 48.6,\n",
       "        49.5, 50.4, 51.3, 52.2, 53.1, 54. , 54.9, 55.8, 56.7, 57.6, 58.5,\n",
       "        59.4, 60.3, 61.2, 62.1, 63. , 63.9, 64.8, 65.7, 66.6, 67.5, 68.4,\n",
       "        69.3, 70.2, 71.1, 72. , 72.9, 73.8, 74.7, 75.6, 76.5, 77.4, 78.3,\n",
       "        79.2, 80.1, 81. , 81.9, 82.8, 83.7, 84.6, 85.5, 86.4, 87.3, 88.2,\n",
       "        89.1, 90. ]),\n",
       " <matplotlib.collections.QuadMesh at 0x7f656a972750>)"
      ]
     },
     "execution_count": 46,
     "metadata": {},
     "output_type": "execute_result"
    },
    {
     "data": {
      "image/png": "[encoded data removed]",
      "text/plain": [
       "<Figure size 432x288 with 1 Axes>"
      ]
     },
     "metadata": {
      "needs_background": "light"
     },
     "output_type": "display_data"
    }
   ],
   "source": [
    "pp.hist2d(y=elecP,x=elecEta,bins=100,range=[[-0.5,3.0],[0,90]])"
   ]
  },
  {
   "cell_type": "code",
   "execution_count": 52,
   "metadata": {},
   "outputs": [
    {
     "data": {
      "text/plain": [
       "(array([[0., 0., 0., ..., 0., 0., 0.],\n",
       "        [0., 0., 0., ..., 0., 0., 0.],\n",
       "        [0., 0., 0., ..., 0., 0., 0.],\n",
       "        ...,\n",
       "        [0., 0., 0., ..., 0., 0., 0.],\n",
       "        [0., 0., 0., ..., 0., 0., 0.],\n",
       "        [0., 0., 0., ..., 0., 0., 0.]]),\n",
       " array([ 3.  ,  3.15,  3.3 ,  3.45,  3.6 ,  3.75,  3.9 ,  4.05,  4.2 ,\n",
       "         4.35,  4.5 ,  4.65,  4.8 ,  4.95,  5.1 ,  5.25,  5.4 ,  5.55,\n",
       "         5.7 ,  5.85,  6.  ,  6.15,  6.3 ,  6.45,  6.6 ,  6.75,  6.9 ,\n",
       "         7.05,  7.2 ,  7.35,  7.5 ,  7.65,  7.8 ,  7.95,  8.1 ,  8.25,\n",
       "         8.4 ,  8.55,  8.7 ,  8.85,  9.  ,  9.15,  9.3 ,  9.45,  9.6 ,\n",
       "         9.75,  9.9 , 10.05, 10.2 , 10.35, 10.5 , 10.65, 10.8 , 10.95,\n",
       "        11.1 , 11.25, 11.4 , 11.55, 11.7 , 11.85, 12.  , 12.15, 12.3 ,\n",
       "        12.45, 12.6 , 12.75, 12.9 , 13.05, 13.2 , 13.35, 13.5 , 13.65,\n",
       "        13.8 , 13.95, 14.1 , 14.25, 14.4 , 14.55, 14.7 , 14.85, 15.  ,\n",
       "        15.15, 15.3 , 15.45, 15.6 , 15.75, 15.9 , 16.05, 16.2 , 16.35,\n",
       "        16.5 , 16.65, 16.8 , 16.95, 17.1 , 17.25, 17.4 , 17.55, 17.7 ,\n",
       "        17.85, 18.  ]),\n",
       " array([-0.5  , -0.465, -0.43 , -0.395, -0.36 , -0.325, -0.29 , -0.255,\n",
       "        -0.22 , -0.185, -0.15 , -0.115, -0.08 , -0.045, -0.01 ,  0.025,\n",
       "         0.06 ,  0.095,  0.13 ,  0.165,  0.2  ,  0.235,  0.27 ,  0.305,\n",
       "         0.34 ,  0.375,  0.41 ,  0.445,  0.48 ,  0.515,  0.55 ,  0.585,\n",
       "         0.62 ,  0.655,  0.69 ,  0.725,  0.76 ,  0.795,  0.83 ,  0.865,\n",
       "         0.9  ,  0.935,  0.97 ,  1.005,  1.04 ,  1.075,  1.11 ,  1.145,\n",
       "         1.18 ,  1.215,  1.25 ,  1.285,  1.32 ,  1.355,  1.39 ,  1.425,\n",
       "         1.46 ,  1.495,  1.53 ,  1.565,  1.6  ,  1.635,  1.67 ,  1.705,\n",
       "         1.74 ,  1.775,  1.81 ,  1.845,  1.88 ,  1.915,  1.95 ,  1.985,\n",
       "         2.02 ,  2.055,  2.09 ,  2.125,  2.16 ,  2.195,  2.23 ,  2.265,\n",
       "         2.3  ,  2.335,  2.37 ,  2.405,  2.44 ,  2.475,  2.51 ,  2.545,\n",
       "         2.58 ,  2.615,  2.65 ,  2.685,  2.72 ,  2.755,  2.79 ,  2.825,\n",
       "         2.86 ,  2.895,  2.93 ,  2.965,  3.   ]),\n",
       " <matplotlib.collections.QuadMesh at 0x7fdcec54de90>)"
      ]
     },
     "execution_count": 52,
     "metadata": {},
     "output_type": "execute_result"
    },
    {
     "data": {
      "image/png": "[encoded data removed]",
      "text/plain": [
       "<Figure size 432x288 with 1 Axes>"
      ]
     },
     "metadata": {
      "needs_background": "light"
     },
     "output_type": "display_data"
    }
   ],
   "source": [
    "pp.hist2d(x=elecP,y=elecEta,bins=100,range=[[3,18],[-0.5,3]])"
   ]
  },
  {
   "cell_type": "code",
   "execution_count": 50,
   "metadata": {},
   "outputs": [],
   "source": [
    "beamEIndex=0"
   ]
  },
  {
   "cell_type": "code",
   "execution_count": null,
   "metadata": {},
   "outputs": [],
   "source": []
  },
  {
   "cell_type": "code",
   "execution_count": 34,
   "metadata": {},
   "outputs": [],
   "source": [
    "elecEta0=myDFs[beamEIndex].head(10000).loc[myDFs[beamEIndex].head(10000)['pdg']==-11,'eta']"
   ]
  },
  {
   "cell_type": "code",
   "execution_count": 35,
   "metadata": {},
   "outputs": [],
   "source": [
    "piPlusEta0=myDFs[beamEIndex].head(10000).loc[myDFs[beamEIndex].head(10000)['pdg']==211,'eta']"
   ]
  },
  {
   "cell_type": "code",
   "execution_count": 36,
   "metadata": {},
   "outputs": [],
   "source": [
    "piMinusEta0=myDFs[beamEIndex].head(10000).loc[myDFs[beamEIndex].head(10000)['pdg']==-211,'eta']"
   ]
  },
  {
   "cell_type": "code",
   "execution_count": 37,
   "metadata": {},
   "outputs": [
    {
     "data": {
      "image/png": "[encoded data removed]",
      "text/plain": [
       "<Figure size 432x288 with 1 Axes>"
      ]
     },
     "metadata": {
      "needs_background": "light"
     },
     "output_type": "display_data"
    }
   ],
   "source": [
    "hElecEta0=pp.hist(elecEta0,bins=100)"
   ]
  },
  {
   "cell_type": "code",
   "execution_count": 38,
   "metadata": {},
   "outputs": [
    {
     "data": {
      "image/png": "[encoded data removed]",
      "text/plain": [
       "<Figure size 432x288 with 1 Axes>"
      ]
     },
     "metadata": {
      "needs_background": "light"
     },
     "output_type": "display_data"
    }
   ],
   "source": [
    "hPiMinusEta0=pp.hist(piMinusEta0,bins=100)"
   ]
  },
  {
   "cell_type": "code",
   "execution_count": 39,
   "metadata": {},
   "outputs": [
    {
     "data": {
      "image/png": "[encoded data removed]",
      "text/plain": [
       "<Figure size 432x288 with 1 Axes>"
      ]
     },
     "metadata": {
      "needs_background": "light"
     },
     "output_type": "display_data"
    }
   ],
   "source": [
    "hPiPlusEta0=pp.hist(piPlusEta0,bins=100)"
   ]
  },
  {
   "cell_type": "code",
   "execution_count": 40,
   "metadata": {},
   "outputs": [],
   "source": [
    "elecP0=myDFs[beamEIndex].head(10000).loc[myDFs[beamEIndex].head(10000)['pdg']==-11,'p']"
   ]
  },
  {
   "cell_type": "code",
   "execution_count": 41,
   "metadata": {},
   "outputs": [],
   "source": [
    "dfPlot0=pd.DataFrame({'X':elecP0,'Y':elecEta0})"
   ]
  },
  {
   "cell_type": "code",
   "execution_count": 42,
   "metadata": {},
   "outputs": [
    {
     "data": {
      "text/html": [
       "<div>\n",
       "<style scoped>\n",
       "    .dataframe tbody tr th:only-of-type {\n",
       "        vertical-align: middle;\n",
       "    }\n",
       "\n",
       "    .dataframe tbody tr th {\n",
       "        vertical-align: top;\n",
       "    }\n",
       "\n",
       "    .dataframe thead th {\n",
       "        text-align: right;\n",
       "    }\n",
       "</style>\n",
       "<table border=\"1\" class=\"dataframe\">\n",
       "  <thead>\n",
       "    <tr style=\"text-align: right;\">\n",
       "      <th></th>\n",
       "      <th>X</th>\n",
       "      <th>Y</th>\n",
       "    </tr>\n",
       "  </thead>\n",
       "  <tbody>\n",
       "    <tr>\n",
       "      <th>0</th>\n",
       "      <td>2.358655</td>\n",
       "      <td>1.373109</td>\n",
       "    </tr>\n",
       "    <tr>\n",
       "      <th>3</th>\n",
       "      <td>1.816069</td>\n",
       "      <td>1.146066</td>\n",
       "    </tr>\n",
       "    <tr>\n",
       "      <th>6</th>\n",
       "      <td>2.733030</td>\n",
       "      <td>1.492953</td>\n",
       "    </tr>\n",
       "    <tr>\n",
       "      <th>9</th>\n",
       "      <td>3.949320</td>\n",
       "      <td>1.835027</td>\n",
       "    </tr>\n",
       "    <tr>\n",
       "      <th>12</th>\n",
       "      <td>2.978900</td>\n",
       "      <td>1.315217</td>\n",
       "    </tr>\n",
       "    <tr>\n",
       "      <th>...</th>\n",
       "      <td>...</td>\n",
       "      <td>...</td>\n",
       "    </tr>\n",
       "    <tr>\n",
       "      <th>9987</th>\n",
       "      <td>3.822159</td>\n",
       "      <td>1.595948</td>\n",
       "    </tr>\n",
       "    <tr>\n",
       "      <th>9990</th>\n",
       "      <td>1.447323</td>\n",
       "      <td>1.529662</td>\n",
       "    </tr>\n",
       "    <tr>\n",
       "      <th>9993</th>\n",
       "      <td>3.608322</td>\n",
       "      <td>2.036098</td>\n",
       "    </tr>\n",
       "    <tr>\n",
       "      <th>9996</th>\n",
       "      <td>2.553901</td>\n",
       "      <td>1.616686</td>\n",
       "    </tr>\n",
       "    <tr>\n",
       "      <th>9999</th>\n",
       "      <td>3.830883</td>\n",
       "      <td>1.869304</td>\n",
       "    </tr>\n",
       "  </tbody>\n",
       "</table>\n",
       "<p>3334 rows × 2 columns</p>\n",
       "</div>"
      ],
      "text/plain": [
       "             X         Y\n",
       "0     2.358655  1.373109\n",
       "3     1.816069  1.146066\n",
       "6     2.733030  1.492953\n",
       "9     3.949320  1.835027\n",
       "12    2.978900  1.315217\n",
       "...        ...       ...\n",
       "9987  3.822159  1.595948\n",
       "9990  1.447323  1.529662\n",
       "9993  3.608322  2.036098\n",
       "9996  2.553901  1.616686\n",
       "9999  3.830883  1.869304\n",
       "\n",
       "[3334 rows x 2 columns]"
      ]
     },
     "execution_count": 42,
     "metadata": {},
     "output_type": "execute_result"
    }
   ],
   "source": [
    "dfPlot0"
   ]
  },
  {
   "cell_type": "code",
   "execution_count": 43,
   "metadata": {},
   "outputs": [
    {
     "ename": "TypeError",
     "evalue": "hist2d() missing 1 required positional argument: 'y'",
     "output_type": "error",
     "traceback": [
      "\u001b[0;31m---------------------------------------------------------------------------\u001b[0m",
      "\u001b[0;31mTypeError\u001b[0m                                 Traceback (most recent call last)",
      "\u001b[0;32m<ipython-input-43-10bf3a640d9e>\u001b[0m in \u001b[0;36m<module>\u001b[0;34m\u001b[0m\n\u001b[0;32m----> 1\u001b[0;31m \u001b[0mpp\u001b[0m\u001b[0;34m.\u001b[0m\u001b[0mhist2d\u001b[0m\u001b[0;34m(\u001b[0m\u001b[0mdfPlot0\u001b[0m\u001b[0;34m)\u001b[0m\u001b[0;34m\u001b[0m\u001b[0;34m\u001b[0m\u001b[0m\n\u001b[0m",
      "\u001b[0;31mTypeError\u001b[0m: hist2d() missing 1 required positional argument: 'y'"
     ]
    }
   ],
   "source": [
    "pp.hist2d(dfPlot0)"
   ]
  },
  {
   "cell_type": "code",
   "execution_count": 44,
   "metadata": {},
   "outputs": [
    {
     "data": {
      "text/plain": [
       "(array([[0., 0., 0., ..., 0., 0., 0.],\n",
       "        [0., 0., 0., ..., 0., 0., 0.],\n",
       "        [0., 0., 0., ..., 0., 0., 0.],\n",
       "        ...,\n",
       "        [0., 0., 0., ..., 0., 0., 0.],\n",
       "        [0., 0., 0., ..., 0., 0., 0.],\n",
       "        [0., 0., 0., ..., 0., 0., 0.]]),\n",
       " array([-0.5  , -0.465, -0.43 , -0.395, -0.36 , -0.325, -0.29 , -0.255,\n",
       "        -0.22 , -0.185, -0.15 , -0.115, -0.08 , -0.045, -0.01 ,  0.025,\n",
       "         0.06 ,  0.095,  0.13 ,  0.165,  0.2  ,  0.235,  0.27 ,  0.305,\n",
       "         0.34 ,  0.375,  0.41 ,  0.445,  0.48 ,  0.515,  0.55 ,  0.585,\n",
       "         0.62 ,  0.655,  0.69 ,  0.725,  0.76 ,  0.795,  0.83 ,  0.865,\n",
       "         0.9  ,  0.935,  0.97 ,  1.005,  1.04 ,  1.075,  1.11 ,  1.145,\n",
       "         1.18 ,  1.215,  1.25 ,  1.285,  1.32 ,  1.355,  1.39 ,  1.425,\n",
       "         1.46 ,  1.495,  1.53 ,  1.565,  1.6  ,  1.635,  1.67 ,  1.705,\n",
       "         1.74 ,  1.775,  1.81 ,  1.845,  1.88 ,  1.915,  1.95 ,  1.985,\n",
       "         2.02 ,  2.055,  2.09 ,  2.125,  2.16 ,  2.195,  2.23 ,  2.265,\n",
       "         2.3  ,  2.335,  2.37 ,  2.405,  2.44 ,  2.475,  2.51 ,  2.545,\n",
       "         2.58 ,  2.615,  2.65 ,  2.685,  2.72 ,  2.755,  2.79 ,  2.825,\n",
       "         2.86 ,  2.895,  2.93 ,  2.965,  3.   ]),\n",
       " array([0.  , 0.07, 0.14, 0.21, 0.28, 0.35, 0.42, 0.49, 0.56, 0.63, 0.7 ,\n",
       "        0.77, 0.84, 0.91, 0.98, 1.05, 1.12, 1.19, 1.26, 1.33, 1.4 , 1.47,\n",
       "        1.54, 1.61, 1.68, 1.75, 1.82, 1.89, 1.96, 2.03, 2.1 , 2.17, 2.24,\n",
       "        2.31, 2.38, 2.45, 2.52, 2.59, 2.66, 2.73, 2.8 , 2.87, 2.94, 3.01,\n",
       "        3.08, 3.15, 3.22, 3.29, 3.36, 3.43, 3.5 , 3.57, 3.64, 3.71, 3.78,\n",
       "        3.85, 3.92, 3.99, 4.06, 4.13, 4.2 , 4.27, 4.34, 4.41, 4.48, 4.55,\n",
       "        4.62, 4.69, 4.76, 4.83, 4.9 , 4.97, 5.04, 5.11, 5.18, 5.25, 5.32,\n",
       "        5.39, 5.46, 5.53, 5.6 , 5.67, 5.74, 5.81, 5.88, 5.95, 6.02, 6.09,\n",
       "        6.16, 6.23, 6.3 , 6.37, 6.44, 6.51, 6.58, 6.65, 6.72, 6.79, 6.86,\n",
       "        6.93, 7.  ]),\n",
       " <matplotlib.collections.QuadMesh at 0x7fdcec7f1c50>)"
      ]
     },
     "execution_count": 44,
     "metadata": {},
     "output_type": "execute_result"
    },
    {
     "data": {
      "image/png": "[encoded data removed]",
      "text/plain": [
       "<Figure size 432x288 with 1 Axes>"
      ]
     },
     "metadata": {
      "needs_background": "light"
     },
     "output_type": "display_data"
    }
   ],
   "source": [
    "pp.hist2d(y=elecP0,x=elecEta0,bins=100,range=[[-0.5,3.0],[0,7]])"
   ]
  },
  {
   "cell_type": "code",
   "execution_count": 45,
   "metadata": {},
   "outputs": [
    {
     "data": {
      "text/plain": [
       "(array([[0., 0., 0., ..., 1., 0., 4.],\n",
       "        [0., 0., 0., ..., 3., 3., 1.],\n",
       "        [0., 0., 0., ..., 1., 1., 0.],\n",
       "        ...,\n",
       "        [0., 0., 0., ..., 0., 0., 0.],\n",
       "        [0., 0., 0., ..., 0., 0., 0.],\n",
       "        [0., 0., 0., ..., 0., 0., 0.]]),\n",
       " array([3.  , 3.05, 3.1 , 3.15, 3.2 , 3.25, 3.3 , 3.35, 3.4 , 3.45, 3.5 ,\n",
       "        3.55, 3.6 , 3.65, 3.7 , 3.75, 3.8 , 3.85, 3.9 , 3.95, 4.  , 4.05,\n",
       "        4.1 , 4.15, 4.2 , 4.25, 4.3 , 4.35, 4.4 , 4.45, 4.5 , 4.55, 4.6 ,\n",
       "        4.65, 4.7 , 4.75, 4.8 , 4.85, 4.9 , 4.95, 5.  , 5.05, 5.1 , 5.15,\n",
       "        5.2 , 5.25, 5.3 , 5.35, 5.4 , 5.45, 5.5 , 5.55, 5.6 , 5.65, 5.7 ,\n",
       "        5.75, 5.8 , 5.85, 5.9 , 5.95, 6.  , 6.05, 6.1 , 6.15, 6.2 , 6.25,\n",
       "        6.3 , 6.35, 6.4 , 6.45, 6.5 , 6.55, 6.6 , 6.65, 6.7 , 6.75, 6.8 ,\n",
       "        6.85, 6.9 , 6.95, 7.  , 7.05, 7.1 , 7.15, 7.2 , 7.25, 7.3 , 7.35,\n",
       "        7.4 , 7.45, 7.5 , 7.55, 7.6 , 7.65, 7.7 , 7.75, 7.8 , 7.85, 7.9 ,\n",
       "        7.95, 8.  ]),\n",
       " array([-0.5 , -0.48, -0.46, -0.44, -0.42, -0.4 , -0.38, -0.36, -0.34,\n",
       "        -0.32, -0.3 , -0.28, -0.26, -0.24, -0.22, -0.2 , -0.18, -0.16,\n",
       "        -0.14, -0.12, -0.1 , -0.08, -0.06, -0.04, -0.02,  0.  ,  0.02,\n",
       "         0.04,  0.06,  0.08,  0.1 ,  0.12,  0.14,  0.16,  0.18,  0.2 ,\n",
       "         0.22,  0.24,  0.26,  0.28,  0.3 ,  0.32,  0.34,  0.36,  0.38,\n",
       "         0.4 ,  0.42,  0.44,  0.46,  0.48,  0.5 ,  0.52,  0.54,  0.56,\n",
       "         0.58,  0.6 ,  0.62,  0.64,  0.66,  0.68,  0.7 ,  0.72,  0.74,\n",
       "         0.76,  0.78,  0.8 ,  0.82,  0.84,  0.86,  0.88,  0.9 ,  0.92,\n",
       "         0.94,  0.96,  0.98,  1.  ,  1.02,  1.04,  1.06,  1.08,  1.1 ,\n",
       "         1.12,  1.14,  1.16,  1.18,  1.2 ,  1.22,  1.24,  1.26,  1.28,\n",
       "         1.3 ,  1.32,  1.34,  1.36,  1.38,  1.4 ,  1.42,  1.44,  1.46,\n",
       "         1.48,  1.5 ]),\n",
       " <matplotlib.collections.QuadMesh at 0x7fdcec76a490>)"
      ]
     },
     "execution_count": 45,
     "metadata": {},
     "output_type": "execute_result"
    },
    {
     "data": {
      "image/png": "[encoded data removed]",
      "text/plain": [
       "<Figure size 432x288 with 1 Axes>"
      ]
     },
     "metadata": {
      "needs_background": "light"
     },
     "output_type": "display_data"
    }
   ],
   "source": [
    "pp.hist2d(x=elecP0,y=elecEta0,bins=100,range=[[3,8],[-0.5,1.5]])"
   ]
  },
  {
   "cell_type": "code",
   "execution_count": null,
   "metadata": {},
   "outputs": [],
   "source": []
  },
  {
   "cell_type": "code",
   "execution_count": null,
   "metadata": {},
   "outputs": [],
   "source": []
  }
 ],
 "metadata": {
  "kernelspec": {
   "display_name": "Python 3",
   "language": "python",
   "name": "python3"
  },
  "language_info": {
   "codemirror_mode": {
    "name": "ipython",
    "version": 3
   },
   "file_extension": ".py",
   "mimetype": "text/x-python",
   "name": "python",
   "nbconvert_exporter": "python",
   "pygments_lexer": "ipython3",
   "version": "3.7.7+"
  }
 },
 "nbformat": 4,
 "nbformat_minor": 4
}
