{
 "cells": [
  {
   "cell_type": "code",
   "execution_count": null,
   "metadata": {},
   "outputs": [],
   "source": [
    "print(hello)"
   ]
  },
  {
   "cell_type": "code",
   "execution_count": null,
   "metadata": {},
   "outputs": [],
   "source": [
    "from pyjano.jana import Jana\n",
    "jana = Jana()\n",
    "jana.plugin('lund_reader')\\\n",
    "    .plugin('event_writer')\\\n",
    "    .plugin('dihadron')\\\n",
    "    .plugin('eic_smear',detector='jleic',throw=True,strict=False)\\\n",
    "    .plugin('jana', output='lundOutput_wChrisPlugin.root')\\\n",
    "    .source('dataFiles/dihadron100Plus10Test.lund')\n",
    "jana.run()"
   ]
  },
  {
   "cell_type": "code",
   "execution_count": null,
   "metadata": {},
   "outputs": [],
   "source": [
    "from pyjano.jana import Jana\n",
    "jana = Jana()\n",
    "jana.plugin('lund_reader')\\\n",
    "    .plugin('event_writer')\\\n",
    "    .plugin('dihadron')\\\n",
    "    .plugin('jana', output='lundOutput_wChrisPlugin_noSM.root')\\\n",
    "    .source('dataFiles/dihadron100Plus10.lund')\n",
    "jana.run()"
   ]
  },
  {
   "cell_type": "code",
   "execution_count": null,
   "metadata": {},
   "outputs": [],
   "source": [
    "import uproot\n",
    "import awkward\n",
    "from awkward import JaggedArray\n",
    "import plotly.express as px\n",
    "import pandas as pd"
   ]
  },
  {
   "cell_type": "code",
   "execution_count": null,
   "metadata": {},
   "outputs": [],
   "source": [
    "events = uproot.open(\"lundOutput_wChrisPlugin.root\")"
   ]
  },
  {
   "cell_type": "code",
   "execution_count": null,
   "metadata": {},
   "outputs": [],
   "source": [
    "type(events)"
   ]
  },
  {
   "cell_type": "code",
   "execution_count": null,
   "metadata": {},
   "outputs": [],
   "source": [
    "events['tree']"
   ]
  },
  {
   "cell_type": "code",
   "execution_count": null,
   "metadata": {},
   "outputs": [],
   "source": [
    "events['tree'].array(\"PhEta\")"
   ]
  },
  {
   "cell_type": "code",
   "execution_count": null,
   "metadata": {},
   "outputs": [],
   "source": [
    "events['tree'].lazyarrays(entrysteps=500)"
   ]
  },
  {
   "cell_type": "code",
   "execution_count": null,
   "metadata": {},
   "outputs": [],
   "source": [
    "arr=events['tree'].lazyarrays(entrysteps=500)"
   ]
  },
  {
   "cell_type": "code",
   "execution_count": null,
   "metadata": {},
   "outputs": [],
   "source": [
    "arr[\"PhEta\"]"
   ]
  },
  {
   "cell_type": "code",
   "execution_count": null,
   "metadata": {},
   "outputs": [],
   "source": [
    "import sys\n",
    "from pyjano.jana import Jana, PluginFromSource\n",
    "enE = 10 # electron energy\n",
    "enP = 100 # proton energy\n",
    "numEvents = 1000 # number of events to process (set to 0 to process all)\n",
    "if(len(sys.argv)>1): enE = str(sys.argv[1])\n",
    "if(len(sys.argv)>2): enP = str(sys.argv[2])\n",
    "if(len(sys.argv)>3): numEvents = str(sys.argv[3])\n",
    "\n",
    "\n",
    "# build dihadron plugin\n",
    "dihadronPlugin = PluginFromSource('../dihadronAnalysis/dihadron', name='dihadron')"
   ]
  },
  {
   "cell_type": "code",
   "execution_count": null,
   "metadata": {},
   "outputs": [],
   "source": [
    "from pyjano.jana import Jana\n",
    "jana = Jana()\n",
    "jana.plugin('lund_reader')\\\n",
    "    .plugin('event_writer')\\\n",
    "    .plugin('jana', output='pythia1M_10_100_wChrisPlugin_noSM.root')\\\n",
    "    .source('dataFiles/pythiaData/pythia.ep.10x100.1Mevents.RadCor.txt')\n",
    "jana.run()"
   ]
  },
  {
   "cell_type": "code",
   "execution_count": null,
   "metadata": {},
   "outputs": [],
   "source": []
  },
  {
   "cell_type": "code",
   "execution_count": null,
   "metadata": {},
   "outputs": [],
   "source": []
  }
 ],
 "metadata": {
  "kernelspec": {
   "display_name": "Python 3",
   "language": "python",
   "name": "python3"
  },
  "language_info": {
   "codemirror_mode": {
    "name": "ipython",
    "version": 3
   },
   "file_extension": ".py",
   "mimetype": "text/x-python",
   "name": "python",
   "nbconvert_exporter": "python",
   "pygments_lexer": "ipython3",
   "version": "3.7.5"
  }
 },
 "nbformat": 4,
 "nbformat_minor": 4
}
