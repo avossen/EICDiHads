{
 "cells": [
  {
   "cell_type": "code",
   "execution_count": 1,
   "metadata": {},
   "outputs": [],
   "source": [
    "from pyjano.jana import Jana\n",
    "\n"
   ]
  },
  {
   "cell_type": "code",
   "execution_count": 2,
   "metadata": {},
   "outputs": [
    {
     "name": "stdout",
     "output_type": "stream",
     "text": [
      "Welcome to JupyROOT 6.20/00\n"
     ]
    }
   ],
   "source": [
    "import ROOT\n",
    "import math\n"
   ]
  },
  {
   "cell_type": "code",
   "execution_count": 3,
   "metadata": {},
   "outputs": [],
   "source": [
    "jana=Jana()"
   ]
  },
  {
   "cell_type": "code",
   "execution_count": 4,
   "metadata": {},
   "outputs": [
    {
     "data": {
      "text/html": [
       "<strong>eJana</strong> configured<br><strong>plugins:</strong> lund_reader"
      ],
      "text/plain": [
       "<pyjano.jana.jana.Jana at 0x7f1d73fc8810>"
      ]
     },
     "execution_count": 4,
     "metadata": {},
     "output_type": "execute_result"
    }
   ],
   "source": [
    "jana.plugin('lund_reader')"
   ]
  },
  {
   "cell_type": "code",
   "execution_count": 5,
   "metadata": {},
   "outputs": [
    {
     "data": {
      "text/html": [
       "<strong>eJana</strong> configured<br><strong>plugins:</strong> lund_reader"
      ],
      "text/plain": [
       "<pyjano.jana.jana.Jana at 0x7f1d73fc8810>"
      ]
     },
     "execution_count": 5,
     "metadata": {},
     "output_type": "execute_result"
    }
   ],
   "source": [
    "jana.plugin('jana', output='mydiHadNonSmeared_new.root')"
   ]
  },
  {
   "cell_type": "code",
   "execution_count": 6,
   "metadata": {},
   "outputs": [
    {
     "data": {
      "text/html": [
       "<strong>eJana</strong> configured<br><strong>plugins:</strong> lund_reader,event_writer"
      ],
      "text/plain": [
       "<pyjano.jana.jana.Jana at 0x7f1d73fc8810>"
      ]
     },
     "execution_count": 6,
     "metadata": {},
     "output_type": "execute_result"
    }
   ],
   "source": [
    "jana.plugin('event_writer')"
   ]
  },
  {
   "cell_type": "code",
   "execution_count": 7,
   "metadata": {},
   "outputs": [
    {
     "data": {
      "text/html": [
       "<strong>eJana</strong> configured<br><strong>plugins:</strong> lund_reader,event_writer<br><strong>sources:</strong><br>convertToLundAndBoost/newOutputBoosted.lund"
      ],
      "text/plain": [
       "<pyjano.jana.jana.Jana at 0x7f1d73fc8810>"
      ]
     },
     "execution_count": 7,
     "metadata": {},
     "output_type": "execute_result"
    }
   ],
   "source": [
    "jana.source('convertToLundAndBoost/outputCut.lund')"
   ]
  },
  {
   "cell_type": "code",
   "execution_count": 8,
   "metadata": {},
   "outputs": [
    {
     "data": {
      "application/vnd.jupyter.widget-view+json": {
       "model_id": "5c02df9e11fc493290aa41c515442dda",
       "version_major": 2,
       "version_minor": 0
      },
      "text/plain": [
       "VBox(children=(HBox(children=(Button(description='Terminate', layout=Layout(display=''), style=ButtonStyle(), …"
      ]
     },
     "metadata": {},
     "output_type": "display_data"
    }
   ],
   "source": [
    "jana.run()"
   ]
  },
  {
   "cell_type": "code",
   "execution_count": 4,
   "metadata": {},
   "outputs": [],
   "source": [
    "jana2=Jana()"
   ]
  },
  {
   "cell_type": "code",
   "execution_count": 5,
   "metadata": {},
   "outputs": [
    {
     "data": {
      "text/html": [
       "<strong>eJana</strong> configured<br><strong>plugins:</strong> lund_reader"
      ],
      "text/plain": [
       "<pyjano.jana.jana.Jana at 0x7f3a6418ccd0>"
      ]
     },
     "execution_count": 5,
     "metadata": {},
     "output_type": "execute_result"
    }
   ],
   "source": [
    "jana2.plugin('jana', output='mydiHadSmeared_jleic.root')\n",
    "\n",
    "jana2.plugin('lund_reader')"
   ]
  },
  {
   "cell_type": "code",
   "execution_count": 6,
   "metadata": {},
   "outputs": [
    {
     "data": {
      "text/html": [
       "<strong>eJana</strong> configured<br><strong>plugins:</strong> lund_reader,event_writer"
      ],
      "text/plain": [
       "<pyjano.jana.jana.Jana at 0x7f3a6418ccd0>"
      ]
     },
     "execution_count": 6,
     "metadata": {},
     "output_type": "execute_result"
    }
   ],
   "source": [
    "jana2.plugin('event_writer')"
   ]
  },
  {
   "cell_type": "code",
   "execution_count": 7,
   "metadata": {},
   "outputs": [
    {
     "data": {
      "text/html": [
       "<strong>eJana</strong> configured<br><strong>plugins:</strong> lund_reader,event_writer,eic_smear"
      ],
      "text/plain": [
       "<pyjano.jana.jana.Jana at 0x7f3a6418ccd0>"
      ]
     },
     "execution_count": 7,
     "metadata": {},
     "output_type": "execute_result"
    }
   ],
   "source": [
    "jana2.plugin('eic_smear',detector='jleic',throw=True,strict=False)"
   ]
  },
  {
   "cell_type": "code",
   "execution_count": 8,
   "metadata": {},
   "outputs": [
    {
     "data": {
      "text/html": [
       "<strong>eJana</strong> configured<br><strong>plugins:</strong> lund_reader,event_writer,eic_smear<br><strong>sources:</strong><br>convertToLundAndBoost/outputCut.lund"
      ],
      "text/plain": [
       "<pyjano.jana.jana.Jana at 0x7f3a6418ccd0>"
      ]
     },
     "execution_count": 8,
     "metadata": {},
     "output_type": "execute_result"
    }
   ],
   "source": [
    "jana2.source('convertToLundAndBoost/outputCut.lund')"
   ]
  },
  {
   "cell_type": "code",
   "execution_count": 9,
   "metadata": {},
   "outputs": [
    {
     "data": {
      "application/vnd.jupyter.widget-view+json": {
       "model_id": "f066bef6ea7a43a899c0c1de62463162",
       "version_major": 2,
       "version_minor": 0
      },
      "text/plain": [
       "VBox(children=(HBox(children=(Button(description='Terminate', layout=Layout(display=''), style=ButtonStyle(), …"
      ]
     },
     "metadata": {},
     "output_type": "display_data"
    }
   ],
   "source": [
    "jana2.run()"
   ]
  },
  {
   "cell_type": "code",
   "execution_count": 10,
   "metadata": {},
   "outputs": [],
   "source": [
    "jana3=Jana()"
   ]
  },
  {
   "cell_type": "code",
   "execution_count": 11,
   "metadata": {},
   "outputs": [
    {
     "data": {
      "text/html": [
       "<strong>eJana</strong> configured<br><strong>plugins:</strong> lund_reader"
      ],
      "text/plain": [
       "<pyjano.jana.jana.Jana at 0x7f3a6419d710>"
      ]
     },
     "execution_count": 11,
     "metadata": {},
     "output_type": "execute_result"
    }
   ],
   "source": [
    "jana3.plugin('jana', output='mydiHadSmeared_beast.root')\n",
    "\n",
    "jana3.plugin('lund_reader')"
   ]
  },
  {
   "cell_type": "code",
   "execution_count": 12,
   "metadata": {},
   "outputs": [
    {
     "data": {
      "text/html": [
       "<strong>eJana</strong> configured<br><strong>plugins:</strong> lund_reader,event_writer"
      ],
      "text/plain": [
       "<pyjano.jana.jana.Jana at 0x7f3a6419d710>"
      ]
     },
     "execution_count": 12,
     "metadata": {},
     "output_type": "execute_result"
    }
   ],
   "source": [
    "jana3.plugin('event_writer')"
   ]
  },
  {
   "cell_type": "code",
   "execution_count": 13,
   "metadata": {},
   "outputs": [
    {
     "data": {
      "text/html": [
       "<strong>eJana</strong> configured<br><strong>plugins:</strong> lund_reader,event_writer,eic_smear"
      ],
      "text/plain": [
       "<pyjano.jana.jana.Jana at 0x7f3a6419d710>"
      ]
     },
     "execution_count": 13,
     "metadata": {},
     "output_type": "execute_result"
    }
   ],
   "source": [
    "jana3.plugin('eic_smear',detector='beast',throw=True,strict=False)"
   ]
  },
  {
   "cell_type": "code",
   "execution_count": 14,
   "metadata": {},
   "outputs": [
    {
     "data": {
      "text/html": [
       "<strong>eJana</strong> configured<br><strong>plugins:</strong> lund_reader,event_writer,eic_smear<br><strong>sources:</strong><br>convertToLundAndBoost/outputCut.lund"
      ],
      "text/plain": [
       "<pyjano.jana.jana.Jana at 0x7f3a6419d710>"
      ]
     },
     "execution_count": 14,
     "metadata": {},
     "output_type": "execute_result"
    }
   ],
   "source": [
    "jana3.source('convertToLundAndBoost/outputCut.lund')"
   ]
  },
  {
   "cell_type": "code",
   "execution_count": 15,
   "metadata": {},
   "outputs": [
    {
     "data": {
      "application/vnd.jupyter.widget-view+json": {
       "model_id": "c46cb0f6ac6f453c9c6ebebbbf3ef58d",
       "version_major": 2,
       "version_minor": 0
      },
      "text/plain": [
       "VBox(children=(HBox(children=(Button(description='Terminate', layout=Layout(display=''), style=ButtonStyle(), …"
      ]
     },
     "metadata": {},
     "output_type": "display_data"
    }
   ],
   "source": [
    "jana3.run()"
   ]
  },
  {
   "cell_type": "code",
   "execution_count": null,
   "metadata": {},
   "outputs": [],
   "source": []
  }
 ],
 "metadata": {
  "kernelspec": {
   "display_name": "Python 3",
   "language": "python",
   "name": "python3"
  },
  "language_info": {
   "codemirror_mode": {
    "name": "ipython",
    "version": 3
   },
   "file_extension": ".py",
   "mimetype": "text/x-python",
   "name": "python",
   "nbconvert_exporter": "python",
   "pygments_lexer": "ipython3",
   "version": "3.7.5"
  }
 },
 "nbformat": 4,
 "nbformat_minor": 4
}
