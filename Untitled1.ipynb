{
 "cells": [
  {
   "cell_type": "code",
   "execution_count": 1,
   "metadata": {},
   "outputs": [
    {
     "name": "stdout",
     "output_type": "stream",
     "text": [
      "Welcome to JupyROOT 6.20/02\n"
     ]
    }
   ],
   "source": [
    "import ROOT\n",
    "import uproot\n",
    "import awkward\n",
    "from awkward import JaggedArray\n",
    "import plotly.express as px\n",
    "import pandas as pd\n",
    "import numpy as np\n",
    "import matplotlib.pyplot as plt\n",
    "from matplotlib import ticker, cm\n",
    "from math import log,exp\n",
    "from numpy import ma"
   ]
  },
  {
   "cell_type": "code",
   "execution_count": 2,
   "metadata": {},
   "outputs": [],
   "source": [
    "events = uproot.open(\"lundOutput_wChrisPlugin.root\")\n",
    "data= events['tree'].lazyarrays(entrysteps=500)"
   ]
  },
  {
   "cell_type": "code",
   "execution_count": 3,
   "metadata": {},
   "outputs": [],
   "source": [
    "xEdges=np.logspace(-3,-1,7)\n",
    "etaEdges=[-3+i for i in range(6)]\n",
    "#this stores the eta for each hadron in the pair, so we have to flatten this structure\n",
    "arEta=data[\"hadEta\"]\n",
    "arEta=arEta.flatten();\n",
    "#get x for the other dimension, now of course we have only have as many x values\n",
    "arX=data[\"x\"]\n",
    "arX=np.repeat(arX,2)"
   ]
  },
  {
   "cell_type": "code",
   "execution_count": 56,
   "metadata": {},
   "outputs": [],
   "source": [
    "hist2d=np.histogram2d(arX,arEta,bins=(xEdges,etaEdges))\n",
    "#should be done better, namely at mean of log\n",
    "xMean=[exp((log(xEdges[i])-log(xEdges[i-1]))/2+log(xEdges[i-1]))  for i in range(len(xEdges)) if(i>0)]\n",
    "etaMean=[(etaEdges[i]-etaEdges[i-1])/2+etaEdges[i-1]  for i in range(len(etaEdges)) if(i>0)]\n",
    "xMean[0]=xEdges[0]\n",
    "xMean[-1]=xEdges[-1]\n",
    "etaMean[0]=etaEdges[0]\n",
    "etaMean[-1]=etaEdges[-1]"
   ]
  },
  {
   "cell_type": "code",
   "execution_count": 58,
   "metadata": {},
   "outputs": [
    {
     "data": {
      "text/plain": [
       "[-3, -2, -1, 0, 1, 2]"
      ]
     },
     "execution_count": 58,
     "metadata": {},
     "output_type": "execute_result"
    }
   ],
   "source": [
    "etaEdges"
   ]
  },
  {
   "cell_type": "code",
   "execution_count": 57,
   "metadata": {},
   "outputs": [
    {
     "data": {
      "text/plain": [
       "Text(0, 0.5, '$x$')"
      ]
     },
     "execution_count": 57,
     "metadata": {},
     "output_type": "execute_result"
    },
    {
     "data": {
      "image/png": "[encoded data removed]",
      "text/plain": [
       "<Figure size 432x288 with 2 Axes>"
      ]
     },
     "metadata": {
      "needs_background": "light"
     },
     "output_type": "display_data"
    }
   ],
   "source": [
    "#histogram returns histogram plus axes...\n",
    "fig, ax=plt.subplots(1,1)\n",
    "z=ma.masked_where(hist2d[0] <= 0, hist2d[0])\n",
    "cf=plt.contourf(etaMean, xMean, z, alpha=.75, cmap='jet',locator=ticker.LogLocator(numticks=20,subs=range(1,10)))\n",
    "ax.set_yscale(\"log\")\n",
    "ax.yaxis.set_major_locator(ticker.LogLocator(subs=range(1,10)))\n",
    "ax.yaxis.set_minor_locator(ticker.LogLocator(numticks=30))\n",
    "#ax.set_ylim(0.001,0.1)\n",
    "#ax.set_zlim(0.001,1000)\n",
    "#  C = plt.contour(etaMean,xMean, z, 8, colors='black', linewidth=.5)\n",
    "fig.colorbar(cf)\n",
    "ax.set_title(\"$\\eta$ vs $x$\")\n",
    "plt.xlabel('$\\eta$')\n",
    "plt.ylabel('$x$')"
   ]
  },
  {
   "cell_type": "code",
   "execution_count": 71,
   "metadata": {},
   "outputs": [],
   "source": [
    "ptEdges=[]\n",
    "ptEdges.append(0.1)\n",
    "ptEdges.append(0.5)\n",
    "ptEdges.append(1.0)\n",
    "ptEdges.append(2.0)\n",
    "ptEdges.append(5.0)\n",
    "etaEdges=[-3+i for i in range(7)]\n",
    "#this stores the eta for each hadron in the pair, so we have to flatten this structure\n",
    "arEta=data[\"hadEta\"]\n",
    "arEta=arEta.flatten();\n",
    "arPt=data[\"hadPt\"]\n",
    "arPt=arPt.flatten();\n",
    "#get x for the other dimension, now of course we have only have as many x values\n",
    "arX=data[\"x\"]\n",
    "arX=np.repeat(arX,2)\n",
    "\n",
    "hist2d=np.histogram2d(arEta,arPt,bins=(etaEdges,ptEdges),weights=arX)\n",
    "hist2d_unweighted=np.histogram2d(arEta,arPt,bins=(etaEdges,ptEdges))\n",
    "\n",
    "z=ma.masked_where(hist2d[0] <= 0, hist2d[0])\n",
    "z_unweighted=ma.masked_where(hist2d_unweighted[0] <= 0, hist2d_unweighted[0])\n",
    "z=z/z_unweighted\n",
    "\n",
    "etaMean=[(etaEdges[i]-etaEdges[i-1])/2+etaEdges[i-1]  for i in range(len(etaEdges)) if(i>0)]\n",
    "ptMean=[(ptEdges[i]-ptEdges[i-1])/2+ptEdges[i-1]  for i in range(len(ptEdges)) if(i>0)]\n",
    "#don't cut off half of the upper and lower bins\n",
    "ptMean[0]=ptEdges[0]\n",
    "ptMean[-1]=ptEdges[-1]\n",
    "etaMean[0]=etaEdges[0]\n",
    "etaMean[-1]=etaEdges[-1]"
   ]
  },
  {
   "cell_type": "code",
   "execution_count": 70,
   "metadata": {},
   "outputs": [
    {
     "data": {
      "text/plain": [
       "[0.1, 0.75, 1.5, 5.0]"
      ]
     },
     "execution_count": 70,
     "metadata": {},
     "output_type": "execute_result"
    }
   ],
   "source": [
    "ptMean"
   ]
  },
  {
   "cell_type": "code",
   "execution_count": 73,
   "metadata": {},
   "outputs": [
    {
     "data": {
      "text/plain": [
       "Text(0.5, 0, '$p_T$')"
      ]
     },
     "execution_count": 73,
     "metadata": {},
     "output_type": "execute_result"
    },
    {
     "data": {
      "image/png": "[encoded data removed]",
      "text/plain": [
       "<Figure size 432x288 with 1 Axes>"
      ]
     },
     "metadata": {
      "needs_background": "light"
     },
     "output_type": "display_data"
    }
   ],
   "source": [
    "cf=plt.contourf(ptMean, etaMean, z, alpha=.75, cmap='jet',locator=ticker.LogLocator(numticks=20,subs=range(1,10)))\n",
    "#  cf=plt.contourf(etaMean, np.log10(xMean), z, 8, alpha=.75, cmap='jet',locator=ticker.LogLocator())\n",
    "#  C = plt.contour(etaMean,xMean, z, 8, colors='black', linewidth=.5)\n",
    "fig.colorbar(cf)\n",
    "ax.set_title(\"mean $x$, $\\eta$ vs $p_T$\")\n",
    "plt.ylabel('$\\eta$')\n",
    "plt.xlabel('$p_T$')"
   ]
  },
  {
   "cell_type": "code",
   "execution_count": 47,
   "metadata": {},
   "outputs": [
    {
     "data": {
      "text/plain": [
       "Text(0, 0.5, '$x$')"
      ]
     },
     "execution_count": 47,
     "metadata": {},
     "output_type": "execute_result"
    },
    {
     "data": {
      "image/png": "[encoded data removed]",
      "text/plain": [
       "<Figure size 432x288 with 2 Axes>"
      ]
     },
     "metadata": {
      "needs_background": "light"
     },
     "output_type": "display_data"
    }
   ],
   "source": [
    "import seaborn as sns\n",
    "arEta=data[\"hadEta\"]\n",
    "arEta=arEta.flatten();\n",
    "#get x for the other dimension, now of course we have only have as many x values\n",
    "arX=data[\"x\"]\n",
    "arX=np.repeat(arX,2)\n",
    "fig, ax=plt.subplots(1,1)\n",
    "#ax.set_yscale(\"log\")\n",
    "ax.yaxis.set_major_locator(ticker.LogLocator(subs=range(1,10)))\n",
    "ax.yaxis.set_minor_locator(ticker.LogLocator(numticks=30))\n",
    "sns.kdeplot(arEta,arX,shade=True, clip=((-3,3),(0.001,0.1)))\n",
    "\n",
    "#  C = plt.contour(etaMean,xMean, z, 8, colors='black', linewidth=.5)\n",
    "fig.colorbar(cf)\n",
    "ax.set_title(\"$\\eta$ vs $x$\")\n",
    "plt.xlabel('$\\eta$')\n",
    "plt.ylabel('$x$')"
   ]
  },
  {
   "cell_type": "code",
   "execution_count": 76,
   "metadata": {},
   "outputs": [],
   "source": [
    "eventsnonsmeared = uproot.open(\"lundOutput_wChrisPlugin_noSM.root\")\n",
    "nonsmeared= eventsnonsmeared['tree'].lazyarrays(entrysteps=500)"
   ]
  },
  {
   "cell_type": "code",
   "execution_count": 82,
   "metadata": {},
   "outputs": [
    {
     "data": {
      "text/plain": [
       "Text(0, 0.5, '$M$-$M_{smeared}$')"
      ]
     },
     "execution_count": 82,
     "metadata": {},
     "output_type": "execute_result"
    },
    {
     "data": {
      "image/png": "[encoded data removed]",
      "text/plain": [
       "<Figure size 432x288 with 1 Axes>"
      ]
     },
     "metadata": {
      "needs_background": "light"
     },
     "output_type": "display_data"
    }
   ],
   "source": [
    "arM=nonsmeared[\"Mh\"]\n",
    "arMSmeared=data[\"Mh\"]\n",
    "\n",
    "mEdges=[]\n",
    "mEdges.append(0.0)\n",
    "mEdges.append(0.5)\n",
    "mEdges.append(1.0)\n",
    "mEdges.append(1.5)\n",
    "mEdges.append(2.0)\n",
    "mEdges.append(5.0)\n",
    "\n",
    "arDiffs=arM-arMSmeared\n",
    "\n",
    "\n",
    "mHist=np.histogram(arM,bins=mEdges)\n",
    "mSmeared=np.histogram(arM,bins=mEdges)\n",
    "mHistWeighted=np.histogram(arM,bins=mEdges,weights=arDiffs)\n",
    "mHistWeightedMeanM=np.histogram(arM,bins=mEdges,weights=arM)\n",
    "# uncertOnDiff=np.sqrt(mHist+mSmeared)\n",
    "mMean=np.divide(mHistWeightedMeanM[0],mHist[0])\n",
    "mMeanDiff=np.divide(mHistWeighted[0],mHist[0])\n",
    "\n",
    "mDiffRel=np.divide(mMeanDiff,mMean)\n",
    "#uncertOnRelDiff=np.divide(uncertOnDiff,mMean)\n",
    "\n",
    "\n",
    "plt.plot(mMean,mMeanDiff,'v')\n",
    "plt.xlabel('$M_{Inv}$')\n",
    "plt.ylabel('$M$-$M_{smeared}$')"
   ]
  },
  {
   "cell_type": "code",
   "execution_count": null,
   "metadata": {},
   "outputs": [],
   "source": []
  }
 ],
 "metadata": {
  "kernelspec": {
   "display_name": "Python 3",
   "language": "python",
   "name": "python3"
  },
  "language_info": {
   "codemirror_mode": {
    "name": "ipython",
    "version": 3
   },
   "file_extension": ".py",
   "mimetype": "text/x-python",
   "name": "python",
   "nbconvert_exporter": "python",
   "pygments_lexer": "ipython3",
   "version": "3.7.7+"
  }
 },
 "nbformat": 4,
 "nbformat_minor": 4
}
