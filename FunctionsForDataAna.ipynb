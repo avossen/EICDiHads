{
 "cells": [
  {
   "cell_type": "code",
   "execution_count": 1,
   "metadata": {},
   "outputs": [],
   "source": [
    "import sys\n",
    "from pyjano.jana import Jana, PluginFromSource"
   ]
  },
  {
   "cell_type": "code",
   "execution_count": 3,
   "metadata": {},
   "outputs": [],
   "source": [
    "enE = 10 # electron energy\n",
    "enP = 100 # proton energy\n",
    "numEvents = 1000 # number of events to process (set to 0 to process all)\n",
    "if(len(sys.argv)>1): enE = str(sys.argv[1])\n",
    "if(len(sys.argv)>2): enP = str(sys.argv[2])\n",
    "if(len(sys.argv)>3): numEvents = str(sys.argv[3])\n",
    "\n",
    "\n",
    "# build dihadron plugin\n",
    "dihadronPlugin = PluginFromSource('../dihadronAnalysis/dihadron', name='dihadron')\n"
   ]
  },
  {
   "cell_type": "code",
   "execution_count": null,
   "metadata": {},
   "outputs": [],
   "source": [
    "def mytest:\n",
    "    print \"Hello world\";\n",
    "    return;"
   ]
  }
 ],
 "metadata": {
  "kernelspec": {
   "display_name": "Python 3",
   "language": "python",
   "name": "python3"
  },
  "language_info": {
   "codemirror_mode": {
    "name": "ipython",
    "version": 3
   },
   "file_extension": ".py",
   "mimetype": "text/x-python",
   "name": "python",
   "nbconvert_exporter": "python",
   "pygments_lexer": "ipython3",
   "version": "3.7.5"
  }
 },
 "nbformat": 4,
 "nbformat_minor": 4
}
