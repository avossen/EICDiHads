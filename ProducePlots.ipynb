{
 "cells": [
  {
   "cell_type": "code",
   "execution_count": null,
   "metadata": {},
   "outputs": [],
   "source": [
    "import uproot\n",
    "import awkward\n",
    "from awkward import JaggedArray\n",
    "import plotly.express as px\n",
    "import pandas as pd\n",
    "import numpy as np\n",
    "import matplotlib.pyplot as plt\n",
    "from matplotlib import ticker, cm\n",
    "from math import log,exp\n",
    "from numpy import ma"
   ]
  },
  {
   "cell_type": "code",
   "execution_count": 1,
   "metadata": {},
   "outputs": [],
   "source": [
    "import awkward1 as ak"
   ]
  },
  {
   "cell_type": "code",
   "execution_count": 2,
   "metadata": {},
   "outputs": [
    {
     "name": "stdout",
     "output_type": "stream",
     "text": [
      "Welcome to JupyROOT 6.20/02\n"
     ]
    }
   ],
   "source": [
    "from PlotDiHadKins import *"
   ]
  },
  {
   "cell_type": "code",
   "execution_count": 3,
   "metadata": {},
   "outputs": [],
   "source": [
    "smearedEvents=loadRootFile(\"lundOutput_wChrisPlugin.root\")"
   ]
  },
  {
   "cell_type": "code",
   "execution_count": 4,
   "metadata": {},
   "outputs": [],
   "source": [
    "unsmearedEvents=loadRootFile(\"lundOutput_wChrisPlugin_noSM.root\")"
   ]
  },
  {
   "cell_type": "code",
   "execution_count": 7,
   "metadata": {},
   "outputs": [],
   "source": [
    "smearedEventsA=loadRootFileArray(\"lundOutput_wChrisPlugin.root\")\n",
    "unsmearedEventsA=loadRootFileArray(\"lundOutput_wChrisPlugin_noSM.root\")"
   ]
  },
  {
   "cell_type": "code",
   "execution_count": 5,
   "metadata": {},
   "outputs": [
    {
     "ename": "AttributeError",
     "evalue": "no column named 'items'",
     "output_type": "error",
     "traceback": [
      "\u001b[0;31m---------------------------------------------------------------------------\u001b[0m",
      "\u001b[0;31mAttributeError\u001b[0m                            Traceback (most recent call last)",
      "\u001b[0;32m<ipython-input-5-3b5655220e41>\u001b[0m in \u001b[0;36m<module>\u001b[0;34m\u001b[0m\n\u001b[0;32m----> 1\u001b[0;31m \u001b[0msmearedEvents\u001b[0m\u001b[0;34m.\u001b[0m\u001b[0mitems\u001b[0m\u001b[0;34m(\u001b[0m\u001b[0;34m)\u001b[0m\u001b[0;34m\u001b[0m\u001b[0;34m\u001b[0m\u001b[0m\n\u001b[0m",
      "\u001b[0;32m/usr/local/lib/python3.7/site-packages/awkward/array/base.py\u001b[0m in \u001b[0;36m__getattr__\u001b[0;34m(self, where)\u001b[0m\n\u001b[1;32m    254\u001b[0m                     \u001b[0;32mraise\u001b[0m \u001b[0mAttributeError\u001b[0m\u001b[0;34m(\u001b[0m\u001b[0;34m\"while trying to get column {0}, an exception occurred:\\n{1}: {2}\"\u001b[0m\u001b[0;34m.\u001b[0m\u001b[0mformat\u001b[0m\u001b[0;34m(\u001b[0m\u001b[0mrepr\u001b[0m\u001b[0;34m(\u001b[0m\u001b[0mwhere\u001b[0m\u001b[0;34m)\u001b[0m\u001b[0;34m,\u001b[0m \u001b[0mtype\u001b[0m\u001b[0;34m(\u001b[0m\u001b[0merr\u001b[0m\u001b[0;34m)\u001b[0m\u001b[0;34m,\u001b[0m \u001b[0mstr\u001b[0m\u001b[0;34m(\u001b[0m\u001b[0merr\u001b[0m\u001b[0;34m)\u001b[0m\u001b[0;34m)\u001b[0m\u001b[0;34m)\u001b[0m\u001b[0;34m\u001b[0m\u001b[0;34m\u001b[0m\u001b[0m\n\u001b[1;32m    255\u001b[0m             \u001b[0;32melse\u001b[0m\u001b[0;34m:\u001b[0m\u001b[0;34m\u001b[0m\u001b[0;34m\u001b[0m\u001b[0m\n\u001b[0;32m--> 256\u001b[0;31m                 \u001b[0;32mraise\u001b[0m \u001b[0mAttributeError\u001b[0m\u001b[0;34m(\u001b[0m\u001b[0;34m\"no column named {0}\"\u001b[0m\u001b[0;34m.\u001b[0m\u001b[0mformat\u001b[0m\u001b[0;34m(\u001b[0m\u001b[0mrepr\u001b[0m\u001b[0;34m(\u001b[0m\u001b[0mwhere\u001b[0m\u001b[0;34m)\u001b[0m\u001b[0;34m)\u001b[0m\u001b[0;34m)\u001b[0m\u001b[0;34m\u001b[0m\u001b[0;34m\u001b[0m\u001b[0m\n\u001b[0m\u001b[1;32m    257\u001b[0m \u001b[0;34m\u001b[0m\u001b[0m\n\u001b[1;32m    258\u001b[0m     \u001b[0;32mdef\u001b[0m \u001b[0m__dir__\u001b[0m\u001b[0;34m(\u001b[0m\u001b[0mself\u001b[0m\u001b[0;34m)\u001b[0m\u001b[0;34m:\u001b[0m\u001b[0;34m\u001b[0m\u001b[0;34m\u001b[0m\u001b[0m\n",
      "\u001b[0;31mAttributeError\u001b[0m: no column named 'items'"
     ]
    }
   ],
   "source": [
    "smearedEvents.items()"
   ]
  },
  {
   "cell_type": "code",
   "execution_count": null,
   "metadata": {},
   "outputs": [],
   "source": [
    "smearedEvents[\"hadPt\"][:,0]"
   ]
  },
  {
   "cell_type": "code",
   "execution_count": null,
   "metadata": {},
   "outputs": [],
   "source": []
  },
  {
   "cell_type": "code",
   "execution_count": 8,
   "metadata": {},
   "outputs": [],
   "source": [
    "arrays = {name: ak.from_awkward0(array) for name, array in smearedEventsA.items()}\n",
    "arraysTruth = {name: ak.from_awkward0(array) for name, array in unsmearedEventsA.items()}"
   ]
  },
  {
   "cell_type": "code",
   "execution_count": 9,
   "metadata": {},
   "outputs": [
    {
     "data": {
      "text/plain": [
       "{'evnum': <Array [0, 1, 2, 3, ... 19997, 19998, 19999] type='20000 * int32'>,\n",
       " 'spinE': <Array [0, 0, 0, 0, 0, 0, ... 0, 0, 0, 0, 0, 0] type='20000 * int32'>,\n",
       " 'spinP': <Array [1, 1, -1, -1, 1, ... 1, 1, -1, 1, -1] type='20000 * int32'>,\n",
       " 'Q2': <Array [2.27, 1.97, 29.4, ... 5.5, 6.42, 5.54] type='20000 * float32'>,\n",
       " 'x': <Array [0.00279, 0.0012, ... 0.00251, 0.00585] type='20000 * float32'>,\n",
       " 'y': <Array [0.203, 0.41, 0.259, ... 0.64, 0.237] type='20000 * float32'>,\n",
       " 'W': <Array [28.5, 40.5, 31.8, ... 36.6, 50.5, 30.7] type='20000 * float32'>,\n",
       " 'Nu': <Array [434, 873, 553, ... 715, 1.36e+03, 504] type='20000 * float32'>,\n",
       " 'eleE': <Array [8.01, 5.96, 8.09, ... 6.8, 3.77, 7.79] type='20000 * float32'>,\n",
       " 'eleP': <Array [8.01, 5.96, 8.09, ... 6.8, 3.77, 7.79] type='20000 * float32'>,\n",
       " 'elePt': <Array [1.34, 1.08, 4.65, ... 1.91, 1.52, 2.06] type='20000 * float32'>,\n",
       " 'eleEta': <Array [2.47, 2.39, 1.15, ... 1.94, 1.56, 2.01] type='20000 * float32'>,\n",
       " 'elePhi': <Array [-2.11, -0.308, 2.91, ... 1.01, -0.801] type='20000 * float32'>,\n",
       " 'eleVertex': <Array [[-0.000263, 0.008, ... -0.00708]] type='20000 * 3 * float32'>,\n",
       " 'hadE': <Array [[1.96, 4.39], ... [3.74, 0.584]] type='20000 * 2 * float32'>,\n",
       " 'hadP': <Array [[1.96, 4.39], ... [3.74, 0.567]] type='20000 * 2 * float32'>,\n",
       " 'hadPt': <Array [[1.19, 2.69], ... [2.14, 0.458]] type='20000 * 2 * float32'>,\n",
       " 'hadEta': <Array [[-1.09, -1.07], ... [-1.16, -0.678]] type='20000 * 2 * float32'>,\n",
       " 'hadPhi': <Array [[1.75, 1.32], ... [0.324, 1.01]] type='20000 * 2 * float32'>,\n",
       " 'hadVertex': <Array [[[0.00011, -0.000127, ... -0.00905]]] type='20000 * 2 * 3 * float32'>,\n",
       " 'Mh': <Array [0.824, 1.51, 0.753, ... 2.01, 0.919] type='20000 * float32'>,\n",
       " 'Mmiss': <Array [22.6, 34.7, 28.7, ... 32.9, 46, 27] type='20000 * float32'>,\n",
       " 'Z': <Array [[0.101, 0.224], ... [0.133, 0.0516]] type='20000 * 2 * float32'>,\n",
       " 'Zpair': <Array [0.325, 0.258, 0.176, ... 0.153, 0.185] type='20000 * float32'>,\n",
       " 'xF': <Array [0.278, 0.248, 0.166, ... 0.134, 0.142] type='20000 * float32'>,\n",
       " 'hadXF': <Array [[0.086, 0.192], ... [0.0947, 0.0472]] type='20000 * 2 * float32'>,\n",
       " 'alpha': <Array [0.262, 1.66, 1.26, ... 1.52, 0.572] type='20000 * float32'>,\n",
       " 'theta': <Array [1.45, 2.39, 1.29, ... 1.39, 1.92, 1.7] type='20000 * float32'>,\n",
       " 'zeta': <Array [-0.377, 0.803, ... 0.369, 0.442] type='20000 * float32'>,\n",
       " 'PhiH': <Array [-2.87, -3.1, -1.94, ... -2.03, 2.15] type='20000 * float32'>,\n",
       " 'PhiR': <Array [-1.08, 1.17, -0.867, ... 3.04, 2.11] type='20000 * float32'>,\n",
       " 'Ph': <Array [6.3, 1.55, 0.966, ... 2.58, 2.28, 4.23] type='20000 * float32'>,\n",
       " 'PhPerp': <Array [5.84, 1.52, 0.965, ... 2.11, 2.83] type='20000 * float32'>,\n",
       " 'PhEta': <Array [-1.09, -0.0566, ... -0.498, -1.11] type='20000 * float32'>,\n",
       " 'PhPhi': <Array [1.45, 2.88, 1.15, ... -0.923, 0.44] type='20000 * float32'>,\n",
       " 'R': <Array [1.27, 0.832, 0.352, ... 1.09, 1.64] type='20000 * float32'>,\n",
       " 'RT': <Array [0.342, 0.456, 0.13, ... 0.877, 0.254] type='20000 * float32'>,\n",
       " 'RPerp': <Array [1.22, 0.583, 0.131, ... 1.08, 0.88] type='20000 * float32'>,\n",
       " 'runnum': <Array [0, 0, 0, 0, 0, 0, ... 0, 0, 0, 0, 0, 0] type='20000 * int32'>,\n",
       " 'eleStatus': <Array [-2231, -2231, -2231, ... -2231, -2231] type='20000 * int32'>,\n",
       " 'eleChi2pid': <Array [0, 0, 0, 0, 0, 0, ... 0, 0, 0, 0, 0, 0] type='20000 * float32'>,\n",
       " 'eleFidPCAL': <Array [[True, True, True, ... True, True]] type='20000 * 3 * bool'>,\n",
       " 'eleFidDC': <Array [[True, True, True, ... True, True]] type='20000 * 3 * bool'>,\n",
       " 'hadOrder': <Array [0, 0, 0, 0, 0, 0, ... 0, 0, 0, 0, 0, 0] type='20000 * int32'>,\n",
       " 'pairType': <Array [52, 52, 52, 52, 52, ... 52, 52, 52, 52] type='20000 * int32'>,\n",
       " 'hadIdx': <Array [[3, 4], [3, 4], ... [3, 4], [3, 4]] type='20000 * 2 * int32'>,\n",
       " 'hadStatus': <Array [[2000, 2000], ... [2000, 2000]] type='20000 * 2 * int32'>,\n",
       " 'hadChi2pid': <Array [[0, 0], [0, 0], ... [0, 0], [0, 0]] type='20000 * 2 * float32'>}"
      ]
     },
     "execution_count": 9,
     "metadata": {},
     "output_type": "execute_result"
    }
   ],
   "source": [
    "arrays"
   ]
  },
  {
   "cell_type": "code",
   "execution_count": 14,
   "metadata": {},
   "outputs": [],
   "source": [
    "events=ak.zip({\"evnum\":arrays[\"evnum\"], \"true\":ak.zip({\"x\": arraysTruth[\"x\"],\"y\": arraysTruth[\"y\"],\"Q2\": arraysTruth[\"Q2\"],\"pair\":ak.zip({\"Z\": arraysTruth[\"Z\"],\"hadP\": arraysTruth[\"hadP\"],\n",
    "                                                                               \"hadPt\": arraysTruth[\"hadPt\"],\n",
    "                                                           \"hadEta\": arraysTruth[\"hadEta\"],\"hadPhi\": arraysTruth[\"hadPhi\"]},depthlimit=1),\n",
    "                                                            \"PhPerp\": arraysTruth[\"PhPerp\"],\"PhEta\": arraysTruth[\"PhEta\"],\"PhPhi\": arraysTruth[\"PhPhi\"],\"Ph\": arraysTruth[\"Ph\"]},depthlimit=1),\n",
    "                   \"rec\": ak.zip({\"x\": arrays[\"x\"],\"y\": arrays[\"y\"],\"Q2\": arrays[\"Q2\"],\"PhPerp\": arrays[\"PhPerp\"],\"PhEta\": arrays[\"PhEta\"],\"PhPhi\": arrays[\"PhPhi\"],\"Ph\": arrays[\"Ph\"],\n",
    "                                              \"pair\":ak.zip({\"Z\": arrays[\"Z\"],\"hadP\": arrays[\"hadP\"],\n",
    "                                                            \"hadPt\": arrays[\"hadPt\"],\n",
    "                                                           \"hadEta\": arrays[\"hadEta\"],\"hadPhi\": arrays[\"hadPhi\"]},depthlimit=1)},depthlimit=1)})"
   ]
  },
  {
   "cell_type": "code",
   "execution_count": 19,
   "metadata": {},
   "outputs": [
    {
     "data": {
      "text/plain": [
       "-1.0871407985687256"
      ]
     },
     "execution_count": 19,
     "metadata": {},
     "output_type": "execute_result"
    }
   ],
   "source": [
    "events.true.pair[0].hadEta[0]"
   ]
  },
  {
   "cell_type": "code",
   "execution_count": null,
   "metadata": {},
   "outputs": [],
   "source": [
    "trueEv=ak.JaggedArray.fromiter(arraysTruth[\"evnum\"])"
   ]
  },
  {
   "cell_type": "code",
   "execution_count": null,
   "metadata": {},
   "outputs": [],
   "source": [
    "type(trueEv)"
   ]
  },
  {
   "cell_type": "code",
   "execution_count": null,
   "metadata": {},
   "outputs": [],
   "source": [
    "import mplhep as hep\n"
   ]
  },
  {
   "cell_type": "code",
   "execution_count": null,
   "metadata": {},
   "outputs": [],
   "source": [
    "events2=ak.JaggedArray.zip({\"evnum\":trueEv, \"true\":ak.JaggedArray.zip({\"x\": arraysTruth[\"x\"],\"y\": arraysTruth[\"y\"],\"Q2\": arraysTruth[\"Q2\"]},depthlimit=1)},depthlimit=1)"
   ]
  },
  {
   "cell_type": "code",
   "execution_count": null,
   "metadata": {},
   "outputs": [],
   "source": [
    "resInM(unsmearedEvents,smearedEvents)"
   ]
  },
  {
   "cell_type": "code",
   "execution_count": null,
   "metadata": {},
   "outputs": [],
   "source": [
    "\n",
    "xEdges=[10**(-3+i/3) for i in range(8)]"
   ]
  },
  {
   "cell_type": "code",
   "execution_count": null,
   "metadata": {},
   "outputs": [],
   "source": [
    "data=smearedEvents\n",
    "xEdges=np.logspace(-3,-1,7)\n",
    "etaEdges=[-3+i for i in range(6)]\n",
    "    #this stores the eta for each hadron in the pair, so we have to flatten this structure\n",
    "arEta=data[\"hadEta\"]\n",
    "arEta=arEta.flatten();\n",
    "    #get x for the other dimension, now of course we have only have as many x values\n",
    "arX=data[\"x\"]\n",
    "arX=np.repeat(arX,2)\n",
    "hist2d=np.histogram2d(arX,arEta,bins=(xEdges,etaEdges))\n",
    "#should be done better, namely at mean of log\n",
    "xMean=[exp((log(xEdges[i])-log(xEdges[i-1]))/2+log(xEdges[i-1]))  for i in range(len(xEdges)) if(i>0)]\n",
    "etaMean=[(etaEdges[i]-etaEdges[i-1])/2+etaEdges[i-1]  for i in range(len(etaEdges)) if(i>0)]"
   ]
  },
  {
   "cell_type": "code",
   "execution_count": null,
   "metadata": {},
   "outputs": [],
   "source": [
    "hist2d"
   ]
  },
  {
   "cell_type": "code",
   "execution_count": null,
   "metadata": {},
   "outputs": [],
   "source": [
    "fig, ax=plt.subplots(1,1)\n",
    "#histogram returns histogram plus axes...\n",
    "z= ma.masked_where(hist2d[0] <= 0, hist2d[0])"
   ]
  },
  {
   "cell_type": "code",
   "execution_count": null,
   "metadata": {},
   "outputs": [],
   "source": [
    "np.log10(xMean)"
   ]
  },
  {
   "cell_type": "code",
   "execution_count": null,
   "metadata": {},
   "outputs": [],
   "source": [
    "cf=plt.contourf(etaMean, np.log10(xMean), z, 8, alpha=.75, cmap='jet',locator=ticker.LogLocator())\n",
    "ax.set_yscale(\"log\")\n",
    "fig.colorbar(cf)\n",
    "ax.set_title(\"$\\eta$ vs $x$\")"
   ]
  },
  {
   "cell_type": "code",
   "execution_count": null,
   "metadata": {},
   "outputs": [],
   "source": [
    "cf=plt.contourf(etaMean, np.log10(xMean), z, 8, alpha=.75, cmap='jet',locator=ticker.LogLocator())"
   ]
  },
  {
   "cell_type": "code",
   "execution_count": null,
   "metadata": {},
   "outputs": [],
   "source": [
    "cf"
   ]
  },
  {
   "cell_type": "code",
   "execution_count": null,
   "metadata": {},
   "outputs": [],
   "source": [
    "data=smearedEvents"
   ]
  },
  {
   "cell_type": "code",
   "execution_count": null,
   "metadata": {},
   "outputs": [],
   "source": [
    "xEdges=[];\n",
    "xEdges.append(0.001)\n",
    "xEdges.append(0.02)\n",
    "xEdges.append(0.05)\n",
    "xEdges.append(0.1)\n",
    "xEdges.append(0.8)\n",
    "    #xEdgesHigh=xEdgesLow[1:]\n",
    "etaEdges=[-3+i for i in range(6)]\n",
    "\n",
    "    #this stores the eta for each hadron in the pair, so we have to flatten this structure\n",
    "arEta=data[\"hadEta\"]\n",
    "arEta.flatten();\n",
    "    #get x for the other dimension, now of course we have only have as many x values\n",
    "arX=data[\"x\"]\n",
    "np.repeat(arX,2)"
   ]
  },
  {
   "cell_type": "code",
   "execution_count": null,
   "metadata": {},
   "outputs": [],
   "source": [
    "np.histogram2d(arX,arEta,bins=(xEdges,etaEdges))"
   ]
  },
  {
   "cell_type": "code",
   "execution_count": null,
   "metadata": {},
   "outputs": [],
   "source": [
    "ar.to_matrix()\n"
   ]
  },
  {
   "cell_type": "code",
   "execution_count": null,
   "metadata": {},
   "outputs": [],
   "source": [
    "ar.as_matrix()"
   ]
  },
  {
   "cell_type": "code",
   "execution_count": null,
   "metadata": {},
   "outputs": [],
   "source": [
    "ar1=np.arange(10)"
   ]
  },
  {
   "cell_type": "code",
   "execution_count": null,
   "metadata": {},
   "outputs": [],
   "source": [
    "ar2=np.arange(10)"
   ]
  },
  {
   "cell_type": "code",
   "execution_count": null,
   "metadata": {},
   "outputs": [],
   "source": [
    "ar3=np.arange(10,10)"
   ]
  },
  {
   "cell_type": "code",
   "execution_count": null,
   "metadata": {},
   "outputs": [],
   "source": [
    "np.histogram2d(ar1,ar2,4)"
   ]
  },
  {
   "cell_type": "code",
   "execution_count": null,
   "metadata": {},
   "outputs": [],
   "source": [
    "np.asarray(ar)"
   ]
  },
  {
   "cell_type": "code",
   "execution_count": null,
   "metadata": {},
   "outputs": [],
   "source": [
    "ar"
   ]
  },
  {
   "cell_type": "code",
   "execution_count": null,
   "metadata": {},
   "outputs": [],
   "source": [
    "arx=smearedEvents[\"x\"]"
   ]
  },
  {
   "cell_type": "code",
   "execution_count": null,
   "metadata": {},
   "outputs": [],
   "source": [
    "arx"
   ]
  },
  {
   "cell_type": "code",
   "execution_count": null,
   "metadata": {},
   "outputs": [],
   "source": [
    "arEta=smearedEvents[\"hadEta\"]"
   ]
  },
  {
   "cell_type": "code",
   "execution_count": null,
   "metadata": {},
   "outputs": [],
   "source": [
    "arEta"
   ]
  },
  {
   "cell_type": "code",
   "execution_count": null,
   "metadata": {},
   "outputs": [],
   "source": [
    "#awkward regular gives regular array, flatten hopefully flattens"
   ]
  },
  {
   "cell_type": "code",
   "execution_count": null,
   "metadata": {},
   "outputs": [],
   "source": [
    "arEta.regular()"
   ]
  },
  {
   "cell_type": "code",
   "execution_count": null,
   "metadata": {},
   "outputs": [],
   "source": [
    "arEta.flatten()"
   ]
  },
  {
   "cell_type": "code",
   "execution_count": null,
   "metadata": {},
   "outputs": [],
   "source": [
    "np.repeat([1,2,3],2)"
   ]
  },
  {
   "cell_type": "code",
   "execution_count": null,
   "metadata": {},
   "outputs": [],
   "source": [
    "arx.repeat(2)"
   ]
  },
  {
   "cell_type": "code",
   "execution_count": null,
   "metadata": {},
   "outputs": [],
   "source": [
    "np.repeat(arx,2)"
   ]
  },
  {
   "cell_type": "code",
   "execution_count": null,
   "metadata": {},
   "outputs": [],
   "source": [
    "xEdges=[];\n",
    "xEdges.append(0.001)\n",
    "xEdges.append(0.02)\n",
    "xEdges.append(0.05)\n",
    "xEdges.append(0.1)\n",
    "xEdges.append(0.8)\n",
    "#xEdgesHigh=xEdgesLow[1:]\n"
   ]
  },
  {
   "cell_type": "code",
   "execution_count": null,
   "metadata": {},
   "outputs": [],
   "source": [
    "etaEdges=[-3+i for i in range(6)]\n",
    "\n",
    "    #this stores the eta for each hadron in the pair, so we have to flatten this structure\n",
    "arEta=smearedEvents[\"hadEta\"]\n",
    "arEta=arEta.flatten();\n",
    "    #get x for the other dimension, now of course we have only have as many x values\n",
    "arX=smearedEvents[\"x\"]\n",
    "arX=np.repeat(arX,2)"
   ]
  },
  {
   "cell_type": "code",
   "execution_count": null,
   "metadata": {},
   "outputs": [],
   "source": [
    "arX2"
   ]
  },
  {
   "cell_type": "code",
   "execution_count": null,
   "metadata": {},
   "outputs": [],
   "source": [
    "arEta=arEta.flatten()"
   ]
  },
  {
   "cell_type": "code",
   "execution_count": null,
   "metadata": {},
   "outputs": [],
   "source": [
    "hist2d=np.histogram2d(arX,arEta,bins=(xEdges,etaEdges))"
   ]
  },
  {
   "cell_type": "code",
   "execution_count": null,
   "metadata": {},
   "outputs": [],
   "source": [
    "len(arEta)"
   ]
  },
  {
   "cell_type": "code",
   "execution_count": null,
   "metadata": {},
   "outputs": [],
   "source": [
    "for i in range(len(xEdges)) if(i>0):\n",
    "    print(i)\n",
    "    "
   ]
  },
  {
   "cell_type": "code",
   "execution_count": null,
   "metadata": {},
   "outputs": [],
   "source": [
    "xMean=[(xEdges[i]-xEdges[i-1])/2+xEdges[i-1]  for i in range(len(xEdges)) if(i>0)]\n",
    "etaMean=[(etaEdges[i]-etaEdges[i-1])/2+etaEdges[i-1]  for i in range(len(etaEdges)) if(i>0)]"
   ]
  },
  {
   "cell_type": "code",
   "execution_count": null,
   "metadata": {},
   "outputs": [],
   "source": [
    "etaMean"
   ]
  },
  {
   "cell_type": "code",
   "execution_count": null,
   "metadata": {},
   "outputs": [],
   "source": [
    "plt.contourf(etaMean, xMean, hist2d[0], 8, alpha=.75, cmap='jet')"
   ]
  },
  {
   "cell_type": "code",
   "execution_count": null,
   "metadata": {},
   "outputs": [],
   "source": []
  },
  {
   "cell_type": "code",
   "execution_count": null,
   "metadata": {},
   "outputs": [],
   "source": [
    "hist2d"
   ]
  },
  {
   "cell_type": "code",
   "execution_count": null,
   "metadata": {},
   "outputs": [],
   "source": [
    "plt.imshow(hist2d[0])"
   ]
  },
  {
   "cell_type": "code",
   "execution_count": null,
   "metadata": {},
   "outputs": [],
   "source": [
    "math.log(0.1)"
   ]
  },
  {
   "cell_type": "code",
   "execution_count": null,
   "metadata": {},
   "outputs": [],
   "source": [
    "Math.log(0.1)"
   ]
  },
  {
   "cell_type": "code",
   "execution_count": null,
   "metadata": {},
   "outputs": [],
   "source": [
    "import log from Math"
   ]
  },
  {
   "cell_type": "code",
   "execution_count": null,
   "metadata": {},
   "outputs": [],
   "source": [
    "import log from math"
   ]
  },
  {
   "cell_type": "code",
   "execution_count": null,
   "metadata": {},
   "outputs": [],
   "source": [
    "from math import log"
   ]
  },
  {
   "cell_type": "code",
   "execution_count": null,
   "metadata": {},
   "outputs": [],
   "source": [
    "log(0.1)"
   ]
  },
  {
   "cell_type": "code",
   "execution_count": null,
   "metadata": {},
   "outputs": [],
   "source": [
    "log(0.01)-log(0.1)"
   ]
  },
  {
   "cell_type": "code",
   "execution_count": null,
   "metadata": {},
   "outputs": [],
   "source": [
    "log(0.01)"
   ]
  },
  {
   "cell_type": "code",
   "execution_count": null,
   "metadata": {},
   "outputs": [],
   "source": [
    "log(0.1)"
   ]
  },
  {
   "cell_type": "code",
   "execution_count": null,
   "metadata": {},
   "outputs": [],
   "source": [
    "log(0.01) - log(0.1)"
   ]
  },
  {
   "cell_type": "code",
   "execution_count": null,
   "metadata": {},
   "outputs": [],
   "source": [
    "e=((log(0.1) - log(0.01))/2+log(0.01))"
   ]
  },
  {
   "cell_type": "code",
   "execution_count": null,
   "metadata": {},
   "outputs": [],
   "source": [
    "from math import exp"
   ]
  },
  {
   "cell_type": "code",
   "execution_count": null,
   "metadata": {},
   "outputs": [],
   "source": [
    "exp(e)\n"
   ]
  },
  {
   "cell_type": "code",
   "execution_count": null,
   "metadata": {},
   "outputs": [],
   "source": [
    "from math import log, exp"
   ]
  },
  {
   "cell_type": "code",
   "execution_count": null,
   "metadata": {},
   "outputs": [],
   "source": [
    "xMean=[exp((log(xEdges[i])-log(xEdges[i-1]))/2+log(xEdges[i-1]))  for i in range(len(xEdges)) if(i>0)]"
   ]
  },
  {
   "cell_type": "code",
   "execution_count": null,
   "metadata": {},
   "outputs": [],
   "source": [
    "xMean"
   ]
  },
  {
   "cell_type": "code",
   "execution_count": null,
   "metadata": {},
   "outputs": [],
   "source": []
  }
 ],
 "metadata": {
  "kernelspec": {
   "display_name": "Python 3",
   "language": "python",
   "name": "python3"
  },
  "language_info": {
   "codemirror_mode": {
    "name": "ipython",
    "version": 3
   },
   "file_extension": ".py",
   "mimetype": "text/x-python",
   "name": "python",
   "nbconvert_exporter": "python",
   "pygments_lexer": "ipython3",
   "version": "3.7.7+"
  }
 },
 "nbformat": 4,
 "nbformat_minor": 4
}
